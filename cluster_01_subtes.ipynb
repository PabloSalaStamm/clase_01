{
 "cells": [
  {
   "cell_type": "markdown",
   "metadata": {},
   "source": [
    "# Cluster 2018"
   ]
  },
  {
   "cell_type": "markdown",
   "metadata": {},
   "source": [
    "# clase_01: Importar data, describirla y visualizarla."
   ]
  },
  {
   "cell_type": "markdown",
   "metadata": {},
   "source": [
    "En esta segunda clase aprenderemos a realizar correlaciones lineales de Pearson, visualizar boxplots, comprender los quantiles de un set de datos y eliminar outliers observando que quantil (percentil) nos ayuda a filtrar. Primero haremos un repaso sobre el analisis exploratorio de subtes que realizamos la semana pasada. "
   ]
  },
  {
   "cell_type": "markdown",
   "metadata": {},
   "source": [
    "**Importamos las Librerías necesarias:** Utilizaremos Numpy para realizar calculos matriciales, pandas para manejar los datos y almacenarlos, y matplotlib junto con Seaborn para visualizar."
   ]
  },
  {
   "cell_type": "code",
   "execution_count": 1,
   "metadata": {},
   "outputs": [
    {
     "name": "stderr",
     "output_type": "stream",
     "text": [
      "/home/human/anaconda3/lib/python3.6/importlib/_bootstrap.py:219: RuntimeWarning: numpy.dtype size changed, may indicate binary incompatibility. Expected 96, got 88\n",
      "  return f(*args, **kwds)\n",
      "/home/human/anaconda3/lib/python3.6/importlib/_bootstrap.py:219: RuntimeWarning: numpy.dtype size changed, may indicate binary incompatibility. Expected 96, got 88\n",
      "  return f(*args, **kwds)\n",
      "/home/human/anaconda3/lib/python3.6/importlib/_bootstrap.py:219: RuntimeWarning: numpy.dtype size changed, may indicate binary incompatibility. Expected 96, got 88\n",
      "  return f(*args, **kwds)\n",
      "/home/human/anaconda3/lib/python3.6/importlib/_bootstrap.py:219: RuntimeWarning: numpy.dtype size changed, may indicate binary incompatibility. Expected 96, got 88\n",
      "  return f(*args, **kwds)\n"
     ]
    }
   ],
   "source": [
    "# importamos las librerías necesarias para trabajar.\n",
    "import numpy as np\n",
    "import pandas as pd\n",
    "import matplotlib.pyplot as plt\n",
    "import seaborn as sns"
   ]
  },
  {
   "cell_type": "markdown",
   "metadata": {
    "collapsed": true
   },
   "source": [
    "**Read_CSV:** Descargamos de https://data.buenosaires.gob.ar/dataset/subte-viajes-molinetes el dataset de usuarios de subte por molinete del año 2017. Luego con el comando de Pandas \"pd.read_csv\" indicamos donde se ubica el dataset a ser leido. Una vez leido guardamos la tabla como un DataFrame de Pandas en el elemento \"molinetes\". "
   ]
  },
  {
   "cell_type": "code",
   "execution_count": 2,
   "metadata": {},
   "outputs": [],
   "source": [
    "# importante detallar que el delimiter indica como estan separadas las columnas en el dataframe.\n",
    "molinetes = pd.read_csv('/home/human/Dropbox/clusterai/molinetes_historico.csv', delimiter=';')"
   ]
  },
  {
   "cell_type": "markdown",
   "metadata": {},
   "source": [
    "con el comando .head() observamos las primeras 5 filas de nuestro dataframe"
   ]
  },
  {
   "cell_type": "code",
   "execution_count": 3,
   "metadata": {},
   "outputs": [
    {
     "data": {
      "text/html": [
       "<div>\n",
       "<style scoped>\n",
       "    .dataframe tbody tr th:only-of-type {\n",
       "        vertical-align: middle;\n",
       "    }\n",
       "\n",
       "    .dataframe tbody tr th {\n",
       "        vertical-align: top;\n",
       "    }\n",
       "\n",
       "    .dataframe thead th {\n",
       "        text-align: right;\n",
       "    }\n",
       "</style>\n",
       "<table border=\"1\" class=\"dataframe\">\n",
       "  <thead>\n",
       "    <tr style=\"text-align: right;\">\n",
       "      <th></th>\n",
       "      <th>PERIODO</th>\n",
       "      <th>FECHA</th>\n",
       "      <th>DESDE</th>\n",
       "      <th>HASTA</th>\n",
       "      <th>LINEA</th>\n",
       "      <th>MOLINETE</th>\n",
       "      <th>ESTACION</th>\n",
       "      <th>PAX_PAGOS</th>\n",
       "      <th>PAX_PASES_PAGOS</th>\n",
       "      <th>PAX_FRANQ</th>\n",
       "      <th>TOTAL</th>\n",
       "      <th>ID</th>\n",
       "    </tr>\n",
       "  </thead>\n",
       "  <tbody>\n",
       "    <tr>\n",
       "      <th>0</th>\n",
       "      <td>201701</td>\n",
       "      <td>01/01/2017</td>\n",
       "      <td>08:00:00</td>\n",
       "      <td>08:15:00</td>\n",
       "      <td>LINEA_H</td>\n",
       "      <td>LINEA_H_CASEROS_SUR_TURN02</td>\n",
       "      <td>CASEROS</td>\n",
       "      <td>1</td>\n",
       "      <td>0</td>\n",
       "      <td>0</td>\n",
       "      <td>1</td>\n",
       "      <td>1</td>\n",
       "    </tr>\n",
       "    <tr>\n",
       "      <th>1</th>\n",
       "      <td>201701</td>\n",
       "      <td>01/01/2017</td>\n",
       "      <td>08:00:00</td>\n",
       "      <td>08:15:00</td>\n",
       "      <td>LINEA_H</td>\n",
       "      <td>LINEA_H_CASEROS_NORTE_TURN02</td>\n",
       "      <td>CASEROS</td>\n",
       "      <td>1</td>\n",
       "      <td>0</td>\n",
       "      <td>0</td>\n",
       "      <td>1</td>\n",
       "      <td>1</td>\n",
       "    </tr>\n",
       "    <tr>\n",
       "      <th>2</th>\n",
       "      <td>201701</td>\n",
       "      <td>01/01/2017</td>\n",
       "      <td>08:15:00</td>\n",
       "      <td>08:30:00</td>\n",
       "      <td>LINEA_H</td>\n",
       "      <td>LINEA_H_CASEROS_SUR_TURN02</td>\n",
       "      <td>CASEROS</td>\n",
       "      <td>2</td>\n",
       "      <td>0</td>\n",
       "      <td>0</td>\n",
       "      <td>2</td>\n",
       "      <td>1</td>\n",
       "    </tr>\n",
       "    <tr>\n",
       "      <th>3</th>\n",
       "      <td>201701</td>\n",
       "      <td>01/01/2017</td>\n",
       "      <td>08:15:00</td>\n",
       "      <td>08:30:00</td>\n",
       "      <td>LINEA_H</td>\n",
       "      <td>LINEA_H_CASEROS_SUR_TURN01</td>\n",
       "      <td>CASEROS</td>\n",
       "      <td>1</td>\n",
       "      <td>0</td>\n",
       "      <td>0</td>\n",
       "      <td>1</td>\n",
       "      <td>1</td>\n",
       "    </tr>\n",
       "    <tr>\n",
       "      <th>4</th>\n",
       "      <td>201701</td>\n",
       "      <td>01/01/2017</td>\n",
       "      <td>08:30:00</td>\n",
       "      <td>08:45:00</td>\n",
       "      <td>LINEA_H</td>\n",
       "      <td>LINEA_H_CASEROS_NORTE_TURN01</td>\n",
       "      <td>CASEROS</td>\n",
       "      <td>2</td>\n",
       "      <td>0</td>\n",
       "      <td>0</td>\n",
       "      <td>2</td>\n",
       "      <td>1</td>\n",
       "    </tr>\n",
       "  </tbody>\n",
       "</table>\n",
       "</div>"
      ],
      "text/plain": [
       "   PERIODO       FECHA     DESDE     HASTA    LINEA  \\\n",
       "0   201701  01/01/2017  08:00:00  08:15:00  LINEA_H   \n",
       "1   201701  01/01/2017  08:00:00  08:15:00  LINEA_H   \n",
       "2   201701  01/01/2017  08:15:00  08:30:00  LINEA_H   \n",
       "3   201701  01/01/2017  08:15:00  08:30:00  LINEA_H   \n",
       "4   201701  01/01/2017  08:30:00  08:45:00  LINEA_H   \n",
       "\n",
       "                       MOLINETE ESTACION  PAX_PAGOS  PAX_PASES_PAGOS  \\\n",
       "0    LINEA_H_CASEROS_SUR_TURN02  CASEROS          1                0   \n",
       "1  LINEA_H_CASEROS_NORTE_TURN02  CASEROS          1                0   \n",
       "2    LINEA_H_CASEROS_SUR_TURN02  CASEROS          2                0   \n",
       "3    LINEA_H_CASEROS_SUR_TURN01  CASEROS          1                0   \n",
       "4  LINEA_H_CASEROS_NORTE_TURN01  CASEROS          2                0   \n",
       "\n",
       "   PAX_FRANQ  TOTAL  ID  \n",
       "0          0      1   1  \n",
       "1          0      1   1  \n",
       "2          0      2   1  \n",
       "3          0      1   1  \n",
       "4          0      2   1  "
      ]
     },
     "execution_count": 3,
     "metadata": {},
     "output_type": "execute_result"
    }
   ],
   "source": [
    "# con el comando .head() podemos ver en pantalla las primeras filas y del dataframe\n",
    "molinetes.head()"
   ]
  },
  {
   "cell_type": "markdown",
   "metadata": {},
   "source": [
    "Recordemos que el comando de numpy np.shape() nos indica las dimensiones de nuestro elemento, en este caso un dataframe de pandas."
   ]
  },
  {
   "cell_type": "code",
   "execution_count": 4,
   "metadata": {},
   "outputs": [
    {
     "data": {
      "text/plain": [
       "(11938476, 12)"
      ]
     },
     "execution_count": 4,
     "metadata": {},
     "output_type": "execute_result"
    }
   ],
   "source": [
    "# si queremos saber cuantos renglones y columnas tiene el objeto en cuestion, utilizamos el comando de numpy \"shape\".\n",
    "# asi podemos ver que nuestro dataset posee mas de 11 millones de renglones y 12 columnas\n",
    "np.shape(molinetes)"
   ]
  },
  {
   "cell_type": "code",
   "execution_count": 5,
   "metadata": {},
   "outputs": [
    {
     "name": "stdout",
     "output_type": "stream",
     "text": [
      "El dataset importado tiene 11938476 renglones y 12 columnas\n"
     ]
    }
   ],
   "source": [
    "# Imprimimos en pantalla un breve reporte de un renglón sobre las dimensiones de nuestro dataframe.\n",
    "# Ver que utilizamos la función de numpy \"shape\".\n",
    "print(\"El dataset importado tiene \"+ str(np.shape(molinetes)[0]) + \" renglones y \" + str(np.shape(molinetes)[1]) + \" columnas\")"
   ]
  },
  {
   "cell_type": "markdown",
   "metadata": {},
   "source": [
    "Si bien en nuestro dataset de subtes no existen columnas que tengan valores nulos o faltantes (NaNs) es necesario entender para otros datasets si hay valores faltantes para eliminarlos (o reemplazarlos por otro valor como la mediana)."
   ]
  },
  {
   "cell_type": "code",
   "execution_count": 6,
   "metadata": {},
   "outputs": [
    {
     "data": {
      "text/plain": [
       "PERIODO            False\n",
       "FECHA              False\n",
       "DESDE              False\n",
       "HASTA              False\n",
       "LINEA              False\n",
       "MOLINETE           False\n",
       "ESTACION           False\n",
       "PAX_PAGOS          False\n",
       "PAX_PASES_PAGOS    False\n",
       "PAX_FRANQ          False\n",
       "TOTAL              False\n",
       "ID                 False\n",
       "dtype: bool"
      ]
     },
     "execution_count": 6,
     "metadata": {},
     "output_type": "execute_result"
    }
   ],
   "source": [
    "# revisamos si existen columnas que contengan valores faltantes (NaNs)\n",
    "col_nulls = molinetes.isnull().any()\n",
    "col_nulls"
   ]
  },
  {
   "cell_type": "markdown",
   "metadata": {},
   "source": [
    "# Columnas e Indices en Pandas"
   ]
  },
  {
   "cell_type": "markdown",
   "metadata": {},
   "source": [
    "**Columnas e Indices en Pandas:** los dataframes de pandas se caracterizan por tener nombres explícitos por columna y por renglón (indice). Es decir que podemos llamar a un elemento (o varios) de un DataFrame por el nombre de su columna e índice."
   ]
  },
  {
   "cell_type": "code",
   "execution_count": 7,
   "metadata": {},
   "outputs": [
    {
     "data": {
      "text/plain": [
       "Index(['PERIODO', 'FECHA', 'DESDE', 'HASTA', 'LINEA', 'MOLINETE', 'ESTACION',\n",
       "       'PAX_PAGOS', 'PAX_PASES_PAGOS', 'PAX_FRANQ', 'TOTAL', 'ID'],\n",
       "      dtype='object')"
      ]
     },
     "execution_count": 7,
     "metadata": {},
     "output_type": "execute_result"
    }
   ],
   "source": [
    "# Obtenemos los nombres de las columnas del dataframe Molinetes\n",
    "columnas_molinetes = molinetes.columns\n",
    "columnas_molinetes"
   ]
  },
  {
   "cell_type": "code",
   "execution_count": 8,
   "metadata": {},
   "outputs": [
    {
     "data": {
      "text/plain": [
       "RangeIndex(start=0, stop=11938476, step=1)"
      ]
     },
     "execution_count": 8,
     "metadata": {},
     "output_type": "execute_result"
    }
   ],
   "source": [
    "# Obtenemos los nombres de los índices (renglones o instancias) del dataframe Molinetes.\n",
    "# Observamos que cuando imprimimos en pantalla los índices, fueron definidos al importar el csv con el parametro \n",
    "# \"index_col\" seleccionando la columna \"PERIODO\".\n",
    "instancias_molinetes = molinetes.index\n",
    "instancias_molinetes"
   ]
  },
  {
   "cell_type": "markdown",
   "metadata": {},
   "source": [
    "# Filtrar un dataframe por el valor de una columna"
   ]
  },
  {
   "cell_type": "markdown",
   "metadata": {},
   "source": [
    "**Filtrar un dataframe por el valor de una columna:** Inicialmente filtraremos nuestro dataframe \"molinetes_b\" por el valor \"LINEA_B\" de la columna \"LINEA\". Para eso usamos la funcion \".loc\" de pandas, sobre el dataframe."
   ]
  },
  {
   "cell_type": "code",
   "execution_count": 9,
   "metadata": {},
   "outputs": [],
   "source": [
    "# como inicialmente queremos trabajar con los datos de la Linea B, filtramos por el valor \"LINEA_B\" de la columna\n",
    "# \"LINEA\" nuestro dataframe original llamado molinetes.\n",
    "molinetes_b = molinetes.loc[molinetes['LINEA'] == 'LINEA_B']"
   ]
  },
  {
   "cell_type": "code",
   "execution_count": 10,
   "metadata": {},
   "outputs": [
    {
     "data": {
      "text/plain": [
       "(2855204, 12)"
      ]
     },
     "execution_count": 10,
     "metadata": {},
     "output_type": "execute_result"
    }
   ],
   "source": [
    "# observamos que la cantidad de renglones del nuevo dataframe es menor al del original, puesto que solo \n",
    "# estamos considerando a los molinetes de la linea B\n",
    "np.shape(molinetes_b)"
   ]
  },
  {
   "cell_type": "code",
   "execution_count": 75,
   "metadata": {},
   "outputs": [
    {
     "data": {
      "text/html": [
       "<div>\n",
       "<style scoped>\n",
       "    .dataframe tbody tr th:only-of-type {\n",
       "        vertical-align: middle;\n",
       "    }\n",
       "\n",
       "    .dataframe tbody tr th {\n",
       "        vertical-align: top;\n",
       "    }\n",
       "\n",
       "    .dataframe thead th {\n",
       "        text-align: right;\n",
       "    }\n",
       "</style>\n",
       "<table border=\"1\" class=\"dataframe\">\n",
       "  <thead>\n",
       "    <tr style=\"text-align: right;\">\n",
       "      <th></th>\n",
       "      <th>PERIODO</th>\n",
       "      <th>FECHA</th>\n",
       "      <th>DESDE</th>\n",
       "      <th>HASTA</th>\n",
       "      <th>LINEA</th>\n",
       "      <th>MOLINETE</th>\n",
       "      <th>ESTACION</th>\n",
       "      <th>PAX_PAGOS</th>\n",
       "      <th>PAX_PASES_PAGOS</th>\n",
       "      <th>PAX_FRANQ</th>\n",
       "      <th>TOTAL</th>\n",
       "      <th>ID</th>\n",
       "    </tr>\n",
       "  </thead>\n",
       "  <tbody>\n",
       "    <tr>\n",
       "      <th>2492243</th>\n",
       "      <td>201701</td>\n",
       "      <td>01/01/2017</td>\n",
       "      <td>08:00:00</td>\n",
       "      <td>08:15:00</td>\n",
       "      <td>LINEA_B</td>\n",
       "      <td>LINEA_B_FLORIDA_O_TURN01</td>\n",
       "      <td>FLORIDA</td>\n",
       "      <td>4</td>\n",
       "      <td>0</td>\n",
       "      <td>0</td>\n",
       "      <td>4</td>\n",
       "      <td>20</td>\n",
       "    </tr>\n",
       "    <tr>\n",
       "      <th>2492244</th>\n",
       "      <td>201701</td>\n",
       "      <td>01/01/2017</td>\n",
       "      <td>08:00:00</td>\n",
       "      <td>08:15:00</td>\n",
       "      <td>LINEA_B</td>\n",
       "      <td>LINEA_B_FLORIDA_O_TURN03</td>\n",
       "      <td>FLORIDA</td>\n",
       "      <td>3</td>\n",
       "      <td>0</td>\n",
       "      <td>0</td>\n",
       "      <td>3</td>\n",
       "      <td>20</td>\n",
       "    </tr>\n",
       "    <tr>\n",
       "      <th>2492245</th>\n",
       "      <td>201701</td>\n",
       "      <td>01/01/2017</td>\n",
       "      <td>08:00:00</td>\n",
       "      <td>08:15:00</td>\n",
       "      <td>LINEA_B</td>\n",
       "      <td>LINEA_B_FLORIDA_O_TURN02</td>\n",
       "      <td>FLORIDA</td>\n",
       "      <td>1</td>\n",
       "      <td>0</td>\n",
       "      <td>0</td>\n",
       "      <td>1</td>\n",
       "      <td>20</td>\n",
       "    </tr>\n",
       "    <tr>\n",
       "      <th>2492246</th>\n",
       "      <td>201701</td>\n",
       "      <td>01/01/2017</td>\n",
       "      <td>08:00:00</td>\n",
       "      <td>08:15:00</td>\n",
       "      <td>LINEA_B</td>\n",
       "      <td>LINEA_B_FLORIDA_O_TURN04</td>\n",
       "      <td>FLORIDA</td>\n",
       "      <td>1</td>\n",
       "      <td>0</td>\n",
       "      <td>0</td>\n",
       "      <td>1</td>\n",
       "      <td>20</td>\n",
       "    </tr>\n",
       "    <tr>\n",
       "      <th>2492247</th>\n",
       "      <td>201701</td>\n",
       "      <td>01/01/2017</td>\n",
       "      <td>08:15:00</td>\n",
       "      <td>08:30:00</td>\n",
       "      <td>LINEA_B</td>\n",
       "      <td>LINEA_B_FLORIDA_O_TURN01</td>\n",
       "      <td>FLORIDA</td>\n",
       "      <td>2</td>\n",
       "      <td>0</td>\n",
       "      <td>0</td>\n",
       "      <td>2</td>\n",
       "      <td>20</td>\n",
       "    </tr>\n",
       "  </tbody>\n",
       "</table>\n",
       "</div>"
      ],
      "text/plain": [
       "         PERIODO       FECHA     DESDE     HASTA    LINEA  \\\n",
       "2492243   201701  01/01/2017  08:00:00  08:15:00  LINEA_B   \n",
       "2492244   201701  01/01/2017  08:00:00  08:15:00  LINEA_B   \n",
       "2492245   201701  01/01/2017  08:00:00  08:15:00  LINEA_B   \n",
       "2492246   201701  01/01/2017  08:00:00  08:15:00  LINEA_B   \n",
       "2492247   201701  01/01/2017  08:15:00  08:30:00  LINEA_B   \n",
       "\n",
       "                         MOLINETE ESTACION  PAX_PAGOS  PAX_PASES_PAGOS  \\\n",
       "2492243  LINEA_B_FLORIDA_O_TURN01  FLORIDA          4                0   \n",
       "2492244  LINEA_B_FLORIDA_O_TURN03  FLORIDA          3                0   \n",
       "2492245  LINEA_B_FLORIDA_O_TURN02  FLORIDA          1                0   \n",
       "2492246  LINEA_B_FLORIDA_O_TURN04  FLORIDA          1                0   \n",
       "2492247  LINEA_B_FLORIDA_O_TURN01  FLORIDA          2                0   \n",
       "\n",
       "         PAX_FRANQ  TOTAL  ID  \n",
       "2492243          0      4  20  \n",
       "2492244          0      3  20  \n",
       "2492245          0      1  20  \n",
       "2492246          0      1  20  \n",
       "2492247          0      2  20  "
      ]
     },
     "execution_count": 75,
     "metadata": {},
     "output_type": "execute_result"
    }
   ],
   "source": [
    "molinetes_b.head()"
   ]
  },
  {
   "cell_type": "markdown",
   "metadata": {},
   "source": [
    "# Visualizacion: Countplot"
   ]
  },
  {
   "cell_type": "markdown",
   "metadata": {},
   "source": [
    "Visualización Countplot de Seaborn para las distintas lineas de subte."
   ]
  },
  {
   "cell_type": "code",
   "execution_count": 89,
   "metadata": {},
   "outputs": [
    {
     "data": {
      "image/png": "[encoded data removed]",
      "text/plain": [
       "<Figure size 432x288 with 1 Axes>"
      ]
     },
     "metadata": {},
     "output_type": "display_data"
    }
   ],
   "source": [
    "# con el comando \"countplot\" de Seaborn (importado como sns) generamos un gráfico de barras por la columna \"LINEA\"\n",
    "az = sns.countplot(x=\"LINEA\", data=molinetes)\n",
    "plt.show()"
   ]
  },
  {
   "cell_type": "markdown",
   "metadata": {},
   "source": [
    "Visualización de Countplot de Seaborn para las distintas estaciones de la linea B."
   ]
  },
  {
   "cell_type": "code",
   "execution_count": 90,
   "metadata": {},
   "outputs": [
    {
     "data": {
      "image/png": "[encoded data removed]",
      "text/plain": [
       "<Figure size 432x288 with 1 Axes>"
      ]
     },
     "metadata": {},
     "output_type": "display_data"
    }
   ],
   "source": [
    "# luego generamos un countplot de seaborn por la columna estación, esta vez utilizando el nuevo dataframe filtrado\n",
    "# molinetes_b, que solo contiene los datos de la linea B.\n",
    "ax = sns.countplot(x=\"ESTACION\", data=molinetes_b)\n",
    "ax.set_xticklabels(ax.get_xticklabels(), rotation=40, ha=\"right\")\n",
    "plt.show()"
   ]
  },
  {
   "cell_type": "markdown",
   "metadata": {},
   "source": [
    "# Visualizacion: Boxplot con Seaborn para linea B\n",
    "Procedemos a realizar un boxplot por cada estacion, cuantificando asi donde se concentran cada lapso de tiempo en viajes de molinete. Ver que siempre la cantidad de periodos de 15 mins entre el 1er y 3er cuartil esta por debajo de 100 viajes. Es importante comprender la diferencia entre el boxplot visualizado a continuacion y el countplot visualizado en el paso anterior. ¿Que cambia entre uno y otro?"
   ]
  },
  {
   "cell_type": "code",
   "execution_count": 99,
   "metadata": {},
   "outputs": [
    {
     "data": {
      "image/png": "[encoded data removed]",
      "text/plain": [
       "<Figure size 432x288 with 1 Axes>"
      ]
     },
     "metadata": {},
     "output_type": "display_data"
    }
   ],
   "source": [
    "ay = sns.boxplot(x = molinetes_b.ESTACION, y = molinetes_b.TOTAL, data = molinetes_b)\n",
    "ay.set_xticklabels(ay.get_xticklabels(), rotation=40, ha=\"right\")\n",
    "plt.show()"
   ]
  },
  {
   "cell_type": "markdown",
   "metadata": {},
   "source": [
    "# Test Estadistico: Mann Whitney entre dos muestras\n",
    "Este test se aplica a dos muestras consideradas independientes. Su objetivo es tener algun indicador que marque si ambas muestras vienen de igual poblacion o no. Como todo test estadistico, existe una hipotesis nula y una hipotesis alternativa. En este caso la hipotesis nula H0 = Ambas muestras pertenecen a poblaciones de igual media. Si el P valor obtenido es menor a 0.05, estamos en condiciones de decir que tenemos suficiente evidencia para rechazar la hipotesis nula y afirmar que ambas muestras vienen de poblaciones con distintas medias.\n",
    "El P valor es una medida de probabilidad que indica cual es la chance de que las hipotesis nula se rechaze solo por azar. Obviamente cuanto menor sea el P valor mas fuerte es la evidencia para rechazar la H0. Por convencion, todo p valor menor a 0.05 se dice que es estadisticamente significativo.\n",
    "Ver https://es.wikipedia.org/wiki/Prueba_U_de_Mann-Whitney"
   ]
  },
  {
   "cell_type": "code",
   "execution_count": 193,
   "metadata": {},
   "outputs": [
    {
     "data": {
      "text/html": [
       "<div>\n",
       "<style scoped>\n",
       "    .dataframe tbody tr th:only-of-type {\n",
       "        vertical-align: middle;\n",
       "    }\n",
       "\n",
       "    .dataframe tbody tr th {\n",
       "        vertical-align: top;\n",
       "    }\n",
       "\n",
       "    .dataframe thead th {\n",
       "        text-align: right;\n",
       "    }\n",
       "</style>\n",
       "<table border=\"1\" class=\"dataframe\">\n",
       "  <thead>\n",
       "    <tr style=\"text-align: right;\">\n",
       "      <th></th>\n",
       "      <th>PERIODO</th>\n",
       "      <th>FECHA</th>\n",
       "      <th>DESDE</th>\n",
       "      <th>HASTA</th>\n",
       "      <th>LINEA</th>\n",
       "      <th>MOLINETE</th>\n",
       "      <th>ESTACION</th>\n",
       "      <th>PAX_PAGOS</th>\n",
       "      <th>PAX_PASES_PAGOS</th>\n",
       "      <th>PAX_FRANQ</th>\n",
       "      <th>TOTAL</th>\n",
       "      <th>ID</th>\n",
       "    </tr>\n",
       "  </thead>\n",
       "  <tbody>\n",
       "    <tr>\n",
       "      <th>11938402</th>\n",
       "      <td>201712</td>\n",
       "      <td>31/12/2017</td>\n",
       "      <td>22:00:00</td>\n",
       "      <td>22:15:00</td>\n",
       "      <td>LINEA_B</td>\n",
       "      <td>LINEA_B_MEDRANO_N_TURN01</td>\n",
       "      <td>MEDRANO</td>\n",
       "      <td>4</td>\n",
       "      <td>0</td>\n",
       "      <td>0</td>\n",
       "      <td>4</td>\n",
       "      <td>27</td>\n",
       "    </tr>\n",
       "    <tr>\n",
       "      <th>11938403</th>\n",
       "      <td>201712</td>\n",
       "      <td>31/12/2017</td>\n",
       "      <td>22:00:00</td>\n",
       "      <td>22:15:00</td>\n",
       "      <td>LINEA_B</td>\n",
       "      <td>LINEA_B_MEDRANO_N_TURN04</td>\n",
       "      <td>MEDRANO</td>\n",
       "      <td>0</td>\n",
       "      <td>0</td>\n",
       "      <td>1</td>\n",
       "      <td>1</td>\n",
       "      <td>27</td>\n",
       "    </tr>\n",
       "    <tr>\n",
       "      <th>11938404</th>\n",
       "      <td>201712</td>\n",
       "      <td>31/12/2017</td>\n",
       "      <td>22:00:00</td>\n",
       "      <td>22:15:00</td>\n",
       "      <td>LINEA_B</td>\n",
       "      <td>LINEA_B_MEDRANO_S_TURN02</td>\n",
       "      <td>MEDRANO</td>\n",
       "      <td>1</td>\n",
       "      <td>0</td>\n",
       "      <td>1</td>\n",
       "      <td>2</td>\n",
       "      <td>27</td>\n",
       "    </tr>\n",
       "    <tr>\n",
       "      <th>11938431</th>\n",
       "      <td>201712</td>\n",
       "      <td>31/12/2017</td>\n",
       "      <td>22:00:00</td>\n",
       "      <td>22:15:00</td>\n",
       "      <td>LINEA_B</td>\n",
       "      <td>LINEA_B_MEDRANO_N_TURN02</td>\n",
       "      <td>MEDRANO</td>\n",
       "      <td>6</td>\n",
       "      <td>0</td>\n",
       "      <td>0</td>\n",
       "      <td>6</td>\n",
       "      <td>27</td>\n",
       "    </tr>\n",
       "    <tr>\n",
       "      <th>11938432</th>\n",
       "      <td>201712</td>\n",
       "      <td>31/12/2017</td>\n",
       "      <td>22:00:00</td>\n",
       "      <td>22:15:00</td>\n",
       "      <td>LINEA_B</td>\n",
       "      <td>LINEA_B_MEDRANO_S_TURN01</td>\n",
       "      <td>MEDRANO</td>\n",
       "      <td>3</td>\n",
       "      <td>0</td>\n",
       "      <td>0</td>\n",
       "      <td>3</td>\n",
       "      <td>27</td>\n",
       "    </tr>\n",
       "  </tbody>\n",
       "</table>\n",
       "</div>"
      ],
      "text/plain": [
       "          PERIODO       FECHA     DESDE     HASTA    LINEA  \\\n",
       "11938402   201712  31/12/2017  22:00:00  22:15:00  LINEA_B   \n",
       "11938403   201712  31/12/2017  22:00:00  22:15:00  LINEA_B   \n",
       "11938404   201712  31/12/2017  22:00:00  22:15:00  LINEA_B   \n",
       "11938431   201712  31/12/2017  22:00:00  22:15:00  LINEA_B   \n",
       "11938432   201712  31/12/2017  22:00:00  22:15:00  LINEA_B   \n",
       "\n",
       "                          MOLINETE ESTACION  PAX_PAGOS  PAX_PASES_PAGOS  \\\n",
       "11938402  LINEA_B_MEDRANO_N_TURN01  MEDRANO          4                0   \n",
       "11938403  LINEA_B_MEDRANO_N_TURN04  MEDRANO          0                0   \n",
       "11938404  LINEA_B_MEDRANO_S_TURN02  MEDRANO          1                0   \n",
       "11938431  LINEA_B_MEDRANO_N_TURN02  MEDRANO          6                0   \n",
       "11938432  LINEA_B_MEDRANO_S_TURN01  MEDRANO          3                0   \n",
       "\n",
       "          PAX_FRANQ  TOTAL  ID  \n",
       "11938402          0      4  27  \n",
       "11938403          1      1  27  \n",
       "11938404          1      2  27  \n",
       "11938431          0      6  27  \n",
       "11938432          0      3  27  "
      ]
     },
     "execution_count": 193,
     "metadata": {},
     "output_type": "execute_result"
    }
   ],
   "source": [
    "medrano_carlosgardel = molinetes_b.loc[(molinetes_b.ESTACION == \"MEDRANO\") | (molinetes_b.ESTACION == \"CARLOS GARDEL\")]\n",
    "medrano_carlosgardel.tail()"
   ]
  },
  {
   "cell_type": "code",
   "execution_count": 194,
   "metadata": {},
   "outputs": [
    {
     "data": {
      "image/png": "[encoded data removed]",
      "text/plain": [
       "<Figure size 432x288 with 1 Axes>"
      ]
     },
     "metadata": {},
     "output_type": "display_data"
    }
   ],
   "source": [
    "ay = sns.boxplot(x = medrano_carlosgardel.ESTACION, y = medrano_carlosgardel.TOTAL, data = medrano_carlosgardel)\n",
    "ay.set_xticklabels(ay.get_xticklabels(), rotation=40, ha=\"right\")\n",
    "plt.show()"
   ]
  },
  {
   "cell_type": "markdown",
   "metadata": {},
   "source": [
    "Realizamos el mann whitney test entre las columnas TOTAL de las filas que son == MEDRANO y las que son == CARLOS GARDEL. Si el p-value obtenido es <0.05 entonces decimos que existe suficiente evidencia para rechazar la Hipotesis Nula H0. La H0 implica que las muestras provienen de poblaciones con medias iguales o similares. Si el p value obtenido es > 0.05 entonces decimos que no tenemos suficiente evidencia para rechazar la hipotesis nula. OJO! esto no quiere decir que la hipotesis nula es valida, solo podemos afirmar que no podemos rechazarla."
   ]
  },
  {
   "cell_type": "code",
   "execution_count": 201,
   "metadata": {},
   "outputs": [
    {
     "data": {
      "text/plain": [
       "0.0002258286288233322"
      ]
     },
     "execution_count": 201,
     "metadata": {},
     "output_type": "execute_result"
    }
   ],
   "source": [
    "from scipy.stats import ttest_ind\n",
    "from scipy.stats import mannwhitneyu\n",
    "#mannwhitney between CS and Tumor labels within train set\n",
    "pvalue = (mannwhitneyu(np.array(medrano_carlosgardel.loc[medrano_carlosgardel.ESTACION == \"MEDRANO\"].TOTAL),np.array(medrano_carlosgardel.loc[medrano_carlosgardel.ESTACION == \"CARLOS GARDEL\"].TOTAL))[1])\n",
    "pvalue"
   ]
  },
  {
   "cell_type": "markdown",
   "metadata": {},
   "source": [
    "# Análisis de la estación Lacroze de la linea B\n",
    "Creamos un dataframe llamado \"molinetes_lacroze\" que contiene unicamente las instancias del dataframe \"molinetes_b\" cuyo valor del atributo/feature \"ESTACION\" sea igual a \"FEDERICO LACROZE\""
   ]
  },
  {
   "cell_type": "code",
   "execution_count": 202,
   "metadata": {},
   "outputs": [],
   "source": [
    "# filtramos con \".loc\" el dataframe \"molinetes_b\" por el valor \"Federico Lacroze\" de la columna \"Estacion\"\n",
    "molinetes_lacroze = molinetes_b.loc[molinetes_b.ESTACION== 'FEDERICO LACROZE']"
   ]
  },
  {
   "cell_type": "code",
   "execution_count": 203,
   "metadata": {},
   "outputs": [
    {
     "data": {
      "text/html": [
       "<div>\n",
       "<style scoped>\n",
       "    .dataframe tbody tr th:only-of-type {\n",
       "        vertical-align: middle;\n",
       "    }\n",
       "\n",
       "    .dataframe tbody tr th {\n",
       "        vertical-align: top;\n",
       "    }\n",
       "\n",
       "    .dataframe thead th {\n",
       "        text-align: right;\n",
       "    }\n",
       "</style>\n",
       "<table border=\"1\" class=\"dataframe\">\n",
       "  <thead>\n",
       "    <tr style=\"text-align: right;\">\n",
       "      <th></th>\n",
       "      <th>PERIODO</th>\n",
       "      <th>FECHA</th>\n",
       "      <th>DESDE</th>\n",
       "      <th>HASTA</th>\n",
       "      <th>LINEA</th>\n",
       "      <th>MOLINETE</th>\n",
       "      <th>ESTACION</th>\n",
       "      <th>PAX_PAGOS</th>\n",
       "      <th>PAX_PASES_PAGOS</th>\n",
       "      <th>PAX_FRANQ</th>\n",
       "      <th>TOTAL</th>\n",
       "      <th>ID</th>\n",
       "    </tr>\n",
       "  </thead>\n",
       "  <tbody>\n",
       "    <tr>\n",
       "      <th>7622359</th>\n",
       "      <td>201701</td>\n",
       "      <td>01/01/2017</td>\n",
       "      <td>08:00:00</td>\n",
       "      <td>08:15:00</td>\n",
       "      <td>LINEA_B</td>\n",
       "      <td>LINEA_B_LACROZE_O_TURN09</td>\n",
       "      <td>FEDERICO LACROZE</td>\n",
       "      <td>2</td>\n",
       "      <td>0</td>\n",
       "      <td>0</td>\n",
       "      <td>2</td>\n",
       "      <td>66</td>\n",
       "    </tr>\n",
       "    <tr>\n",
       "      <th>7622360</th>\n",
       "      <td>201701</td>\n",
       "      <td>01/01/2017</td>\n",
       "      <td>08:00:00</td>\n",
       "      <td>08:15:00</td>\n",
       "      <td>LINEA_B</td>\n",
       "      <td>LINEA_B_LACROZE_E_TURN05</td>\n",
       "      <td>FEDERICO LACROZE</td>\n",
       "      <td>4</td>\n",
       "      <td>0</td>\n",
       "      <td>0</td>\n",
       "      <td>4</td>\n",
       "      <td>66</td>\n",
       "    </tr>\n",
       "    <tr>\n",
       "      <th>7622361</th>\n",
       "      <td>201701</td>\n",
       "      <td>01/01/2017</td>\n",
       "      <td>08:00:00</td>\n",
       "      <td>08:15:00</td>\n",
       "      <td>LINEA_B</td>\n",
       "      <td>LINEA_B_LACROZE_E_TURN06</td>\n",
       "      <td>FEDERICO LACROZE</td>\n",
       "      <td>0</td>\n",
       "      <td>0</td>\n",
       "      <td>1</td>\n",
       "      <td>1</td>\n",
       "      <td>66</td>\n",
       "    </tr>\n",
       "    <tr>\n",
       "      <th>7622362</th>\n",
       "      <td>201701</td>\n",
       "      <td>01/01/2017</td>\n",
       "      <td>08:00:00</td>\n",
       "      <td>08:15:00</td>\n",
       "      <td>LINEA_B</td>\n",
       "      <td>LINEA_B_LACROZE_O_TURN03</td>\n",
       "      <td>FEDERICO LACROZE</td>\n",
       "      <td>1</td>\n",
       "      <td>0</td>\n",
       "      <td>0</td>\n",
       "      <td>1</td>\n",
       "      <td>66</td>\n",
       "    </tr>\n",
       "    <tr>\n",
       "      <th>7622363</th>\n",
       "      <td>201701</td>\n",
       "      <td>01/01/2017</td>\n",
       "      <td>08:00:00</td>\n",
       "      <td>08:15:00</td>\n",
       "      <td>LINEA_B</td>\n",
       "      <td>LINEA_B_LACROZE_O_TURN07</td>\n",
       "      <td>FEDERICO LACROZE</td>\n",
       "      <td>2</td>\n",
       "      <td>0</td>\n",
       "      <td>0</td>\n",
       "      <td>2</td>\n",
       "      <td>66</td>\n",
       "    </tr>\n",
       "  </tbody>\n",
       "</table>\n",
       "</div>"
      ],
      "text/plain": [
       "         PERIODO       FECHA     DESDE     HASTA    LINEA  \\\n",
       "7622359   201701  01/01/2017  08:00:00  08:15:00  LINEA_B   \n",
       "7622360   201701  01/01/2017  08:00:00  08:15:00  LINEA_B   \n",
       "7622361   201701  01/01/2017  08:00:00  08:15:00  LINEA_B   \n",
       "7622362   201701  01/01/2017  08:00:00  08:15:00  LINEA_B   \n",
       "7622363   201701  01/01/2017  08:00:00  08:15:00  LINEA_B   \n",
       "\n",
       "                         MOLINETE          ESTACION  PAX_PAGOS  \\\n",
       "7622359  LINEA_B_LACROZE_O_TURN09  FEDERICO LACROZE          2   \n",
       "7622360  LINEA_B_LACROZE_E_TURN05  FEDERICO LACROZE          4   \n",
       "7622361  LINEA_B_LACROZE_E_TURN06  FEDERICO LACROZE          0   \n",
       "7622362  LINEA_B_LACROZE_O_TURN03  FEDERICO LACROZE          1   \n",
       "7622363  LINEA_B_LACROZE_O_TURN07  FEDERICO LACROZE          2   \n",
       "\n",
       "         PAX_PASES_PAGOS  PAX_FRANQ  TOTAL  ID  \n",
       "7622359                0          0      2  66  \n",
       "7622360                0          0      4  66  \n",
       "7622361                0          1      1  66  \n",
       "7622362                0          0      1  66  \n",
       "7622363                0          0      2  66  "
      ]
     },
     "execution_count": 203,
     "metadata": {},
     "output_type": "execute_result"
    }
   ],
   "source": [
    "molinetes_lacroze.head()"
   ]
  },
  {
   "cell_type": "markdown",
   "metadata": {},
   "source": [
    "**estadisticas descriptivas para la columna \"TOTAL\" del dataframe \"molinetes_lacroze\"**"
   ]
  },
  {
   "cell_type": "code",
   "execution_count": 204,
   "metadata": {},
   "outputs": [
    {
     "data": {
      "text/plain": [
       "count    421233.000000\n",
       "mean         19.292629\n",
       "std          25.177922\n",
       "min           0.000000\n",
       "25%           3.000000\n",
       "50%           9.000000\n",
       "75%          27.000000\n",
       "max         248.000000\n",
       "Name: TOTAL, dtype: float64"
      ]
     },
     "execution_count": 204,
     "metadata": {},
     "output_type": "execute_result"
    }
   ],
   "source": [
    "molinetes_lacroze['TOTAL'].describe()"
   ]
  },
  {
   "cell_type": "markdown",
   "metadata": {},
   "source": [
    "**distplot para la columna \"TOTAL\" del dataframe \"molinetes_lacroze\"**"
   ]
  },
  {
   "cell_type": "code",
   "execution_count": 205,
   "metadata": {},
   "outputs": [
    {
     "name": "stderr",
     "output_type": "stream",
     "text": [
      "/home/human/anaconda3/lib/python3.6/site-packages/scipy/stats/stats.py:1706: FutureWarning: Using a non-tuple sequence for multidimensional indexing is deprecated; use `arr[tuple(seq)]` instead of `arr[seq]`. In the future this will be interpreted as an array index, `arr[np.array(seq)]`, which will result either in an error or a different result.\n",
      "  return np.add.reduce(sorted[indexer] * weights, axis=axis) / sumval\n",
      "/home/human/anaconda3/lib/python3.6/site-packages/matplotlib/axes/_axes.py:6462: UserWarning: The 'normed' kwarg is deprecated, and has been replaced by the 'density' kwarg.\n",
      "  warnings.warn(\"The 'normed' kwarg is deprecated, and has been \"\n"
     ]
    },
    {
     "data": {
      "image/png": "[encoded data removed]",
      "text/plain": [
       "<Figure size 432x288 with 1 Axes>"
      ]
     },
     "metadata": {},
     "output_type": "display_data"
    }
   ],
   "source": [
    "# displot para la columna \"TOTAL\" nos generará un histograma + la distribución generada de los datos a partir de \n",
    "# sus frecuencias poblacionales.\n",
    "sns.distplot(molinetes_lacroze['TOTAL'])\n",
    "plt.title('Distribución de cantidad de viajes totales de molinetes. Linea B. Mes Abril.')\n",
    "plt.xlabel('Cantidad de Viajes en molinete por cada 15 mins')\n",
    "plt.show()"
   ]
  },
  {
   "cell_type": "markdown",
   "metadata": {},
   "source": [
    "**Boxplot para la columna TOTAL del dataframe \"molinetes_lacroze\"**\n",
    "Realizaremos un boxplot con Matplotlib y otro con seaborn, simplemente para aprender que existen 2 maneras de visualizar."
   ]
  },
  {
   "cell_type": "code",
   "execution_count": 206,
   "metadata": {},
   "outputs": [
    {
     "data": {
      "image/png": "[encoded data removed]",
      "text/plain": [
       "<Figure size 432x288 with 1 Axes>"
      ]
     },
     "metadata": {},
     "output_type": "display_data"
    }
   ],
   "source": [
    "# boxplot realizado con Matplotlib\n",
    "plt.boxplot(molinetes_lacroze['TOTAL'])\n",
    "plt.title('Distribucion de cant. de vueltas de molinete de la estacion Lacroze en 2017')\n",
    "plt.ylabel('Cantidad de vueltas de molinete c/15 mins')\n",
    "plt.xlabel(\"Viajes por molinete Lacroze\")\n",
    "plt.show()"
   ]
  },
  {
   "cell_type": "code",
   "execution_count": 207,
   "metadata": {},
   "outputs": [
    {
     "data": {
      "image/png": "[encoded data removed]",
      "text/plain": [
       "<Figure size 432x288 with 1 Axes>"
      ]
     },
     "metadata": {},
     "output_type": "display_data"
    }
   ],
   "source": [
    "ax = sns.boxplot(x = \"TOTAL\", data =  molinetes_lacroze)\n",
    "plt.show()"
   ]
  },
  {
   "cell_type": "markdown",
   "metadata": {},
   "source": [
    "# Filtrado de outliers con cuantiles\n",
    "Calculamos el valor del percentil 90. Lo que este sobre el percentil 90 lo llamaremos \"hora pico\" y lo que este por debajo sera \"hora no pico\"."
   ]
  },
  {
   "cell_type": "markdown",
   "metadata": {},
   "source": [
    "Con el comando de pandas .quantile() calculamos los percentiles que deseemos. En algunos casos nos puede llegar a interesar tambien observar lo que se encuentre por debajo del percentil 10, aunque como observamos en el distplot, la distribucion es asimetrica a la derecha."
   ]
  },
  {
   "cell_type": "code",
   "execution_count": 208,
   "metadata": {},
   "outputs": [],
   "source": [
    "# calculo el percentil 90 de la columna \"TOTAL\" para el dataframe \"molinetes_lacroze\".\n",
    "percentil_90 = molinetes_lacroze['TOTAL'].quantile(0.9)"
   ]
  },
  {
   "cell_type": "code",
   "execution_count": 209,
   "metadata": {},
   "outputs": [
    {
     "data": {
      "text/plain": [
       "50.0"
      ]
     },
     "execution_count": 209,
     "metadata": {},
     "output_type": "execute_result"
    }
   ],
   "source": [
    "percentil_90"
   ]
  },
  {
   "cell_type": "markdown",
   "metadata": {},
   "source": [
    "Ahora filtramos por los valores de \"TOTAL\" que sean mayores al percentil 90 para guardarlos en otro dataframe llamado \"Lacroze_hora_pico\". Lo mismo hacemos para los que son menores al percentil 90 y los guardamos como \"hora no pico\"."
   ]
  },
  {
   "cell_type": "code",
   "execution_count": 210,
   "metadata": {},
   "outputs": [],
   "source": [
    "lacroze_hora_pico = molinetes_lacroze.loc[molinetes_lacroze['TOTAL']>percentil_90]"
   ]
  },
  {
   "cell_type": "code",
   "execution_count": 211,
   "metadata": {},
   "outputs": [],
   "source": [
    "lacroze_hora_nopico = molinetes_lacroze.loc[molinetes_lacroze['TOTAL']<percentil_90]"
   ]
  },
  {
   "cell_type": "markdown",
   "metadata": {},
   "source": [
    "Observamos que la expresion **\"molinetes_lacroze['TOTAL']<percentil_90\"** es un vector Boolean, es decir que arroja True o False, y al filtrar utilizando un vector boolean solo sobreviven las filas que esten asociadas a un True."
   ]
  },
  {
   "cell_type": "code",
   "execution_count": 212,
   "metadata": {},
   "outputs": [
    {
     "data": {
      "text/plain": [
       "7622359    True\n",
       "7622360    True\n",
       "7622361    True\n",
       "7622362    True\n",
       "7622363    True\n",
       "Name: TOTAL, dtype: bool"
      ]
     },
     "execution_count": 212,
     "metadata": {},
     "output_type": "execute_result"
    }
   ],
   "source": [
    "# observamos que cuando indicamos una expresion logica, lo que devuelve python son valores Booleanos como True or False.\n",
    "(molinetes_lacroze['TOTAL']<percentil_90).head()"
   ]
  },
  {
   "cell_type": "code",
   "execution_count": 213,
   "metadata": {},
   "outputs": [
    {
     "data": {
      "text/plain": [
       "(378809, 12)"
      ]
     },
     "execution_count": 213,
     "metadata": {},
     "output_type": "execute_result"
    }
   ],
   "source": [
    "# observamos que dimensiones tienen ahora los dataframes de hora pico y hora no pico\n",
    "np.shape(lacroze_hora_nopico)"
   ]
  },
  {
   "cell_type": "code",
   "execution_count": 214,
   "metadata": {},
   "outputs": [
    {
     "data": {
      "text/plain": [
       "(40621, 12)"
      ]
     },
     "execution_count": 214,
     "metadata": {},
     "output_type": "execute_result"
    }
   ],
   "source": [
    "np.shape(lacroze_hora_pico)"
   ]
  },
  {
   "cell_type": "markdown",
   "metadata": {},
   "source": [
    "Ploteamos la distribucion / histograma de la hora pico"
   ]
  },
  {
   "cell_type": "code",
   "execution_count": 215,
   "metadata": {},
   "outputs": [
    {
     "name": "stderr",
     "output_type": "stream",
     "text": [
      "/home/human/anaconda3/lib/python3.6/site-packages/scipy/stats/stats.py:1706: FutureWarning: Using a non-tuple sequence for multidimensional indexing is deprecated; use `arr[tuple(seq)]` instead of `arr[seq]`. In the future this will be interpreted as an array index, `arr[np.array(seq)]`, which will result either in an error or a different result.\n",
      "  return np.add.reduce(sorted[indexer] * weights, axis=axis) / sumval\n",
      "/home/human/anaconda3/lib/python3.6/site-packages/matplotlib/axes/_axes.py:6462: UserWarning: The 'normed' kwarg is deprecated, and has been replaced by the 'density' kwarg.\n",
      "  warnings.warn(\"The 'normed' kwarg is deprecated, and has been \"\n"
     ]
    },
    {
     "data": {
      "image/png": "[encoded data removed]",
      "text/plain": [
       "<Figure size 432x288 with 1 Axes>"
      ]
     },
     "metadata": {},
     "output_type": "display_data"
    }
   ],
   "source": [
    "sns.distplot(lacroze_hora_pico['TOTAL'], norm_hist = False)\n",
    "plt.title('Distribución de cantidad de viajes en hora pico de la estacion Lacroze')\n",
    "plt.xlabel('Cantidad de Viajes en molinete por cada 15 mins')\n",
    "plt.show()"
   ]
  },
  {
   "cell_type": "code",
   "execution_count": 217,
   "metadata": {},
   "outputs": [
    {
     "data": {
      "image/png": "[encoded data removed]",
      "text/plain": [
       "<Figure size 432x288 with 1 Axes>"
      ]
     },
     "metadata": {},
     "output_type": "display_data"
    }
   ],
   "source": [
    "plt.boxplot(lacroze_hora_pico['TOTAL'])\n",
    "plt.title('Distribucion de cant. de vueltas de molinete de Lacroze en 2017 Hora Pico')\n",
    "plt.ylabel('Cantidad de vueltas de molinete c/15 mins')\n",
    "plt.show()"
   ]
  },
  {
   "cell_type": "markdown",
   "metadata": {},
   "source": [
    "Calculamos estadisticas descriptivas para la hora pico"
   ]
  },
  {
   "cell_type": "code",
   "execution_count": 216,
   "metadata": {},
   "outputs": [
    {
     "data": {
      "text/plain": [
       "count    40621.000000\n",
       "mean        80.194604\n",
       "std         28.975506\n",
       "min         51.000000\n",
       "25%         57.000000\n",
       "50%         70.000000\n",
       "75%         96.000000\n",
       "max        248.000000\n",
       "Name: TOTAL, dtype: float64"
      ]
     },
     "execution_count": 216,
     "metadata": {},
     "output_type": "execute_result"
    }
   ],
   "source": [
    "lacroze_hora_pico['TOTAL'].describe()"
   ]
  },
  {
   "cell_type": "markdown",
   "metadata": {},
   "source": [
    "Ahora calculamos estadisticas descriptivas y graficos para la hora no pico"
   ]
  },
  {
   "cell_type": "code",
   "execution_count": 221,
   "metadata": {},
   "outputs": [
    {
     "data": {
      "text/plain": [
       "count    378809.000000\n",
       "mean         12.615743\n",
       "std          12.964954\n",
       "min           0.000000\n",
       "25%           2.000000\n",
       "50%           7.000000\n",
       "75%          19.000000\n",
       "max          49.000000\n",
       "Name: TOTAL, dtype: float64"
      ]
     },
     "execution_count": 221,
     "metadata": {},
     "output_type": "execute_result"
    }
   ],
   "source": [
    "lacroze_hora_nopico['TOTAL'].describe()"
   ]
  },
  {
   "cell_type": "code",
   "execution_count": 222,
   "metadata": {},
   "outputs": [
    {
     "name": "stderr",
     "output_type": "stream",
     "text": [
      "/home/human/anaconda3/lib/python3.6/site-packages/scipy/stats/stats.py:1706: FutureWarning: Using a non-tuple sequence for multidimensional indexing is deprecated; use `arr[tuple(seq)]` instead of `arr[seq]`. In the future this will be interpreted as an array index, `arr[np.array(seq)]`, which will result either in an error or a different result.\n",
      "  return np.add.reduce(sorted[indexer] * weights, axis=axis) / sumval\n",
      "/home/human/anaconda3/lib/python3.6/site-packages/matplotlib/axes/_axes.py:6462: UserWarning: The 'normed' kwarg is deprecated, and has been replaced by the 'density' kwarg.\n",
      "  warnings.warn(\"The 'normed' kwarg is deprecated, and has been \"\n"
     ]
    },
    {
     "data": {
      "image/png": "[encoded data removed]",
      "text/plain": [
       "<Figure size 432x288 with 1 Axes>"
      ]
     },
     "metadata": {},
     "output_type": "display_data"
    }
   ],
   "source": [
    "sns.distplot((lacroze_hora_nopico['TOTAL']))\n",
    "plt.title('Distribución de cantidad de viajes en hora NO pico de la estacion Lacroze')\n",
    "plt.xlabel('Cantidad de Viajes en molinete por cada 15 mins')\n",
    "plt.show()"
   ]
  },
  {
   "cell_type": "code",
   "execution_count": 223,
   "metadata": {},
   "outputs": [
    {
     "data": {
      "image/png": "[encoded data removed]",
      "text/plain": [
       "<Figure size 432x288 with 1 Axes>"
      ]
     },
     "metadata": {},
     "output_type": "display_data"
    }
   ],
   "source": [
    "plt.boxplot(lacroze_hora_nopico['TOTAL'])\n",
    "plt.show()"
   ]
  },
  {
   "cell_type": "code",
   "execution_count": 224,
   "metadata": {},
   "outputs": [
    {
     "name": "stderr",
     "output_type": "stream",
     "text": [
      "/home/human/anaconda3/lib/python3.6/site-packages/numpy/core/fromnumeric.py:51: FutureWarning: reshape is deprecated and will raise in a subsequent release. Please use .values.reshape(...) instead\n",
      "  return getattr(obj, method)(*args, **kwds)\n"
     ]
    },
    {
     "data": {
      "image/png": "[encoded data removed]",
      "text/plain": [
       "<Figure size 432x288 with 1 Axes>"
      ]
     },
     "metadata": {},
     "output_type": "display_data"
    }
   ],
   "source": [
    "plt.boxplot([molinetes_lacroze['TOTAL'],lacroze_hora_pico['TOTAL'], lacroze_hora_nopico['TOTAL']])\n",
    "plt.title('comparacion de boxplots entre hora pico, no pico y pre filtrado')\n",
    "plt.xlabel(['pre-filtrado', 'hora pico', 'hora no pico'])\n",
    "plt.show()"
   ]
  },
  {
   "cell_type": "markdown",
   "metadata": {},
   "source": [
    "# Correlación Lineal entre estaciones Linea C"
   ]
  },
  {
   "cell_type": "markdown",
   "metadata": {},
   "source": [
    "\\begin{equation}\n",
    "r = \\frac{\\sum_{i}^{n}\\left ( x_i - \\overline{x} \\right )\\left ( y_i - \\overline{y}  \\right )}{\\left [ \\sum_{i}^{n} \\left ( x_i - \\overline{x}  \\right )^{2} \\left ( y_i - \\overline{y} \\right ) ^{2}  \\right ]^{1/2}}\n",
    "\\end{equation}"
   ]
  },
  {
   "cell_type": "markdown",
   "metadata": {},
   "source": [
    "La correlacion lineal (Pearson) es un indicador que varia entre -1 y 1. Indica si dos variables supuestas independientes, se comportan linealmente una de la otra al analizalas juntas. Correlacion r>0 implica correlacion lineal positiva y r<0 implica correlacion lineal negativa. Si r=0 quiere decir que no existe correlacion LINEAL, aunque puede existir otro tipo de correlacion no lineal."
   ]
  },
  {
   "cell_type": "markdown",
   "metadata": {},
   "source": [
    "**IMPORTANTE: Correlacion no implica causalidad**. Si dos variables estan altamente correlacionadas, nada indica que una es la causa de la otra, es decir, nada indica que una depende de otra."
   ]
  },
  {
   "cell_type": "code",
   "execution_count": 225,
   "metadata": {},
   "outputs": [],
   "source": [
    "# Creamos un dataframe solo de la linea C filtrando el dataframe \"molinetes\" por la columna \"LINEA\"\n",
    "molinetes_c = molinetes[(molinetes['LINEA'] == 'LINEA_C')]"
   ]
  },
  {
   "cell_type": "code",
   "execution_count": 226,
   "metadata": {},
   "outputs": [],
   "source": [
    "# ahora creamos una tabla pivote para resumir por columnas ESTACION y filas FECHA, los valores de cantidad de viajes\n",
    "# de molinetes para la linea C\n",
    "molinetes_c_pivot = pd.pivot_table(molinetes_c, values = 'TOTAL', columns = 'ESTACION', index = 'PERIODO',fill_value=0, aggfunc = np.sum)"
   ]
  },
  {
   "cell_type": "code",
   "execution_count": 227,
   "metadata": {},
   "outputs": [
    {
     "data": {
      "text/html": [
       "<div>\n",
       "<style scoped>\n",
       "    .dataframe tbody tr th:only-of-type {\n",
       "        vertical-align: middle;\n",
       "    }\n",
       "\n",
       "    .dataframe tbody tr th {\n",
       "        vertical-align: top;\n",
       "    }\n",
       "\n",
       "    .dataframe thead th {\n",
       "        text-align: right;\n",
       "    }\n",
       "</style>\n",
       "<table border=\"1\" class=\"dataframe\">\n",
       "  <thead>\n",
       "    <tr style=\"text-align: right;\">\n",
       "      <th>ESTACION</th>\n",
       "      <th>AVENIDA DE MAYO</th>\n",
       "      <th>CONSTITUCION</th>\n",
       "      <th>DIAGONAL NORTE</th>\n",
       "      <th>GENERAL SAN MARTIN</th>\n",
       "      <th>INDEPENDENCIA</th>\n",
       "      <th>LAVALLE</th>\n",
       "      <th>MARIANO MORENO</th>\n",
       "      <th>RETIRO</th>\n",
       "      <th>SAN JUAN</th>\n",
       "    </tr>\n",
       "    <tr>\n",
       "      <th>PERIODO</th>\n",
       "      <th></th>\n",
       "      <th></th>\n",
       "      <th></th>\n",
       "      <th></th>\n",
       "      <th></th>\n",
       "      <th></th>\n",
       "      <th></th>\n",
       "      <th></th>\n",
       "      <th></th>\n",
       "    </tr>\n",
       "  </thead>\n",
       "  <tbody>\n",
       "    <tr>\n",
       "      <th>201701</th>\n",
       "      <td>106068</td>\n",
       "      <td>8229</td>\n",
       "      <td>88541</td>\n",
       "      <td>135184</td>\n",
       "      <td>195139</td>\n",
       "      <td>118027</td>\n",
       "      <td>110087</td>\n",
       "      <td>511180</td>\n",
       "      <td>705</td>\n",
       "    </tr>\n",
       "    <tr>\n",
       "      <th>201702</th>\n",
       "      <td>102016</td>\n",
       "      <td>1</td>\n",
       "      <td>92249</td>\n",
       "      <td>137498</td>\n",
       "      <td>228300</td>\n",
       "      <td>117724</td>\n",
       "      <td>124408</td>\n",
       "      <td>517505</td>\n",
       "      <td>0</td>\n",
       "    </tr>\n",
       "    <tr>\n",
       "      <th>201703</th>\n",
       "      <td>179735</td>\n",
       "      <td>1673294</td>\n",
       "      <td>180484</td>\n",
       "      <td>276231</td>\n",
       "      <td>188051</td>\n",
       "      <td>278616</td>\n",
       "      <td>219070</td>\n",
       "      <td>1016705</td>\n",
       "      <td>155478</td>\n",
       "    </tr>\n",
       "    <tr>\n",
       "      <th>201704</th>\n",
       "      <td>147947</td>\n",
       "      <td>1674946</td>\n",
       "      <td>152623</td>\n",
       "      <td>233642</td>\n",
       "      <td>161896</td>\n",
       "      <td>244432</td>\n",
       "      <td>184197</td>\n",
       "      <td>941852</td>\n",
       "      <td>157027</td>\n",
       "    </tr>\n",
       "    <tr>\n",
       "      <th>201705</th>\n",
       "      <td>173288</td>\n",
       "      <td>1973564</td>\n",
       "      <td>178884</td>\n",
       "      <td>280895</td>\n",
       "      <td>178144</td>\n",
       "      <td>290885</td>\n",
       "      <td>217205</td>\n",
       "      <td>1105674</td>\n",
       "      <td>179406</td>\n",
       "    </tr>\n",
       "  </tbody>\n",
       "</table>\n",
       "</div>"
      ],
      "text/plain": [
       "ESTACION  AVENIDA DE MAYO  CONSTITUCION  DIAGONAL NORTE  GENERAL SAN MARTIN  \\\n",
       "PERIODO                                                                       \n",
       "201701             106068          8229           88541              135184   \n",
       "201702             102016             1           92249              137498   \n",
       "201703             179735       1673294          180484              276231   \n",
       "201704             147947       1674946          152623              233642   \n",
       "201705             173288       1973564          178884              280895   \n",
       "\n",
       "ESTACION  INDEPENDENCIA  LAVALLE  MARIANO MORENO   RETIRO  SAN JUAN  \n",
       "PERIODO                                                              \n",
       "201701           195139   118027          110087   511180       705  \n",
       "201702           228300   117724          124408   517505         0  \n",
       "201703           188051   278616          219070  1016705    155478  \n",
       "201704           161896   244432          184197   941852    157027  \n",
       "201705           178144   290885          217205  1105674    179406  "
      ]
     },
     "execution_count": 227,
     "metadata": {},
     "output_type": "execute_result"
    }
   ],
   "source": [
    "# observamos como quedo la tabla pivote\n",
    "molinetes_c_pivot.head()"
   ]
  },
  {
   "cell_type": "code",
   "execution_count": 228,
   "metadata": {},
   "outputs": [],
   "source": [
    "# ahora generamos una matriz de correlacion de Pearson entre cada estacion de la linea C.\n",
    "# Con esto queremos entender si cuando aumenta o diminuye los viajes de molinetes de una estacion, el resto de las estaciones\n",
    "# evoluciona directa o indirectamente proporcional de manera lineal.\n",
    "mol_c_corr = molinetes_c_pivot.corr()"
   ]
  },
  {
   "cell_type": "code",
   "execution_count": 229,
   "metadata": {},
   "outputs": [
    {
     "data": {
      "text/plain": [
       "(9, 9)"
      ]
     },
     "execution_count": 229,
     "metadata": {},
     "output_type": "execute_result"
    }
   ],
   "source": [
    "# observamos las dimensiones de esta matriz\n",
    "np.shape(mol_c_corr)"
   ]
  },
  {
   "cell_type": "code",
   "execution_count": 230,
   "metadata": {},
   "outputs": [
    {
     "data": {
      "text/html": [
       "<div>\n",
       "<style scoped>\n",
       "    .dataframe tbody tr th:only-of-type {\n",
       "        vertical-align: middle;\n",
       "    }\n",
       "\n",
       "    .dataframe tbody tr th {\n",
       "        vertical-align: top;\n",
       "    }\n",
       "\n",
       "    .dataframe thead th {\n",
       "        text-align: right;\n",
       "    }\n",
       "</style>\n",
       "<table border=\"1\" class=\"dataframe\">\n",
       "  <thead>\n",
       "    <tr style=\"text-align: right;\">\n",
       "      <th>ESTACION</th>\n",
       "      <th>AVENIDA DE MAYO</th>\n",
       "      <th>CONSTITUCION</th>\n",
       "      <th>DIAGONAL NORTE</th>\n",
       "      <th>GENERAL SAN MARTIN</th>\n",
       "      <th>INDEPENDENCIA</th>\n",
       "      <th>LAVALLE</th>\n",
       "      <th>MARIANO MORENO</th>\n",
       "      <th>RETIRO</th>\n",
       "      <th>SAN JUAN</th>\n",
       "    </tr>\n",
       "    <tr>\n",
       "      <th>ESTACION</th>\n",
       "      <th></th>\n",
       "      <th></th>\n",
       "      <th></th>\n",
       "      <th></th>\n",
       "      <th></th>\n",
       "      <th></th>\n",
       "      <th></th>\n",
       "      <th></th>\n",
       "      <th></th>\n",
       "    </tr>\n",
       "  </thead>\n",
       "  <tbody>\n",
       "    <tr>\n",
       "      <th>AVENIDA DE MAYO</th>\n",
       "      <td>1.000000</td>\n",
       "      <td>0.944188</td>\n",
       "      <td>0.992863</td>\n",
       "      <td>0.981723</td>\n",
       "      <td>-0.457787</td>\n",
       "      <td>0.976326</td>\n",
       "      <td>0.988167</td>\n",
       "      <td>0.969090</td>\n",
       "      <td>0.957276</td>\n",
       "    </tr>\n",
       "    <tr>\n",
       "      <th>CONSTITUCION</th>\n",
       "      <td>0.944188</td>\n",
       "      <td>1.000000</td>\n",
       "      <td>0.954917</td>\n",
       "      <td>0.960572</td>\n",
       "      <td>-0.619212</td>\n",
       "      <td>0.982128</td>\n",
       "      <td>0.968479</td>\n",
       "      <td>0.993509</td>\n",
       "      <td>0.985945</td>\n",
       "    </tr>\n",
       "    <tr>\n",
       "      <th>DIAGONAL NORTE</th>\n",
       "      <td>0.992863</td>\n",
       "      <td>0.954917</td>\n",
       "      <td>1.000000</td>\n",
       "      <td>0.991764</td>\n",
       "      <td>-0.498654</td>\n",
       "      <td>0.987925</td>\n",
       "      <td>0.989611</td>\n",
       "      <td>0.975702</td>\n",
       "      <td>0.975865</td>\n",
       "    </tr>\n",
       "  </tbody>\n",
       "</table>\n",
       "</div>"
      ],
      "text/plain": [
       "ESTACION         AVENIDA DE MAYO  CONSTITUCION  DIAGONAL NORTE  \\\n",
       "ESTACION                                                         \n",
       "AVENIDA DE MAYO         1.000000      0.944188        0.992863   \n",
       "CONSTITUCION            0.944188      1.000000        0.954917   \n",
       "DIAGONAL NORTE          0.992863      0.954917        1.000000   \n",
       "\n",
       "ESTACION         GENERAL SAN MARTIN  INDEPENDENCIA   LAVALLE  MARIANO MORENO  \\\n",
       "ESTACION                                                                       \n",
       "AVENIDA DE MAYO            0.981723      -0.457787  0.976326        0.988167   \n",
       "CONSTITUCION               0.960572      -0.619212  0.982128        0.968479   \n",
       "DIAGONAL NORTE             0.991764      -0.498654  0.987925        0.989611   \n",
       "\n",
       "ESTACION           RETIRO  SAN JUAN  \n",
       "ESTACION                             \n",
       "AVENIDA DE MAYO  0.969090  0.957276  \n",
       "CONSTITUCION     0.993509  0.985945  \n",
       "DIAGONAL NORTE   0.975702  0.975865  "
      ]
     },
     "execution_count": 230,
     "metadata": {},
     "output_type": "execute_result"
    }
   ],
   "source": [
    "# visualizamos las primeras 3 filas de la matriz\n",
    "mol_c_corr.head(3)"
   ]
  },
  {
   "cell_type": "markdown",
   "metadata": {},
   "source": [
    "# Heatmap de correlacion estaciones linea C\n",
    "Utilizamos la funcion Heatmap de seaborn para visualizar la matriz de correlacion que generamos en el paso anterior. Observamos que la estacion Independencia correlaciona negativamente con el resto. Esto quiere decir que cuando el resto de las estaciones incrementa su numero de pasajeros por molinete, en Independencia decrece demanera lineal."
   ]
  },
  {
   "cell_type": "code",
   "execution_count": 231,
   "metadata": {},
   "outputs": [
    {
     "data": {
      "image/png": "[encoded data removed]",
      "text/plain": [
       "<Figure size 432x288 with 2 Axes>"
      ]
     },
     "metadata": {},
     "output_type": "display_data"
    }
   ],
   "source": [
    "corr_c_plot = sns.heatmap(mol_c_corr, xticklabels=1, yticklabels=1)\n",
    "corr_c_plot.set_xticklabels(corr_c_plot.get_xticklabels(), rotation=40, ha=\"right\")\n",
    "plt.show()"
   ]
  },
  {
   "cell_type": "markdown",
   "metadata": {},
   "source": [
    "Observamos que la estacion Independencia correlaciona negativamente con respecto al resto de las estaciones. Posiblemente sea un efecto de que Independencia es un nodo que intersecta a la linea E."
   ]
  },
  {
   "cell_type": "code",
   "execution_count": 232,
   "metadata": {},
   "outputs": [
    {
     "data": {
      "image/png": "[encoded data removed]",
      "text/plain": [
       "<Figure size 432x288 with 1 Axes>"
      ]
     },
     "metadata": {},
     "output_type": "display_data"
    }
   ],
   "source": [
    "count_c_plot = sns.countplot(molinetes_c['ESTACION'])\n",
    "count_c_plot.set_xticklabels(count_c_plot.get_xticklabels(), rotation=40, ha=\"right\")\n",
    "plt.show()"
   ]
  },
  {
   "cell_type": "code",
   "execution_count": 233,
   "metadata": {},
   "outputs": [
    {
     "data": {
      "text/html": [
       "<div>\n",
       "<style scoped>\n",
       "    .dataframe tbody tr th:only-of-type {\n",
       "        vertical-align: middle;\n",
       "    }\n",
       "\n",
       "    .dataframe tbody tr th {\n",
       "        vertical-align: top;\n",
       "    }\n",
       "\n",
       "    .dataframe thead th {\n",
       "        text-align: right;\n",
       "    }\n",
       "</style>\n",
       "<table border=\"1\" class=\"dataframe\">\n",
       "  <thead>\n",
       "    <tr style=\"text-align: right;\">\n",
       "      <th></th>\n",
       "      <th>PERIODO</th>\n",
       "      <th>FECHA</th>\n",
       "      <th>DESDE</th>\n",
       "      <th>HASTA</th>\n",
       "      <th>LINEA</th>\n",
       "      <th>MOLINETE</th>\n",
       "      <th>ESTACION</th>\n",
       "      <th>PAX_PAGOS</th>\n",
       "      <th>PAX_PASES_PAGOS</th>\n",
       "      <th>PAX_FRANQ</th>\n",
       "      <th>TOTAL</th>\n",
       "      <th>ID</th>\n",
       "    </tr>\n",
       "  </thead>\n",
       "  <tbody>\n",
       "    <tr>\n",
       "      <th>1296430</th>\n",
       "      <td>201701</td>\n",
       "      <td>01/01/2017</td>\n",
       "      <td>08:00:00</td>\n",
       "      <td>08:15:00</td>\n",
       "      <td>LINEA_C</td>\n",
       "      <td>LINEA_C_RETIRO_TURN01</td>\n",
       "      <td>RETIRO</td>\n",
       "      <td>1</td>\n",
       "      <td>0</td>\n",
       "      <td>0</td>\n",
       "      <td>1</td>\n",
       "      <td>13</td>\n",
       "    </tr>\n",
       "    <tr>\n",
       "      <th>1296431</th>\n",
       "      <td>201701</td>\n",
       "      <td>01/01/2017</td>\n",
       "      <td>08:00:00</td>\n",
       "      <td>08:15:00</td>\n",
       "      <td>LINEA_C</td>\n",
       "      <td>LINEA_C_RETIRO_TURN11</td>\n",
       "      <td>RETIRO</td>\n",
       "      <td>9</td>\n",
       "      <td>0</td>\n",
       "      <td>1</td>\n",
       "      <td>10</td>\n",
       "      <td>13</td>\n",
       "    </tr>\n",
       "    <tr>\n",
       "      <th>1296432</th>\n",
       "      <td>201701</td>\n",
       "      <td>01/01/2017</td>\n",
       "      <td>08:00:00</td>\n",
       "      <td>08:15:00</td>\n",
       "      <td>LINEA_C</td>\n",
       "      <td>LINEA_C_RETIRO_TURN12</td>\n",
       "      <td>RETIRO</td>\n",
       "      <td>4</td>\n",
       "      <td>0</td>\n",
       "      <td>0</td>\n",
       "      <td>4</td>\n",
       "      <td>13</td>\n",
       "    </tr>\n",
       "    <tr>\n",
       "      <th>1296433</th>\n",
       "      <td>201701</td>\n",
       "      <td>01/01/2017</td>\n",
       "      <td>08:00:00</td>\n",
       "      <td>08:15:00</td>\n",
       "      <td>LINEA_C</td>\n",
       "      <td>LINEA_C_RETIRO_TURN04</td>\n",
       "      <td>RETIRO</td>\n",
       "      <td>0</td>\n",
       "      <td>0</td>\n",
       "      <td>1</td>\n",
       "      <td>1</td>\n",
       "      <td>13</td>\n",
       "    </tr>\n",
       "    <tr>\n",
       "      <th>1296434</th>\n",
       "      <td>201701</td>\n",
       "      <td>01/01/2017</td>\n",
       "      <td>08:00:00</td>\n",
       "      <td>08:15:00</td>\n",
       "      <td>LINEA_C</td>\n",
       "      <td>LINEA_C_RETIRO_TURN09</td>\n",
       "      <td>RETIRO</td>\n",
       "      <td>5</td>\n",
       "      <td>0</td>\n",
       "      <td>1</td>\n",
       "      <td>6</td>\n",
       "      <td>13</td>\n",
       "    </tr>\n",
       "  </tbody>\n",
       "</table>\n",
       "</div>"
      ],
      "text/plain": [
       "         PERIODO       FECHA     DESDE     HASTA    LINEA  \\\n",
       "1296430   201701  01/01/2017  08:00:00  08:15:00  LINEA_C   \n",
       "1296431   201701  01/01/2017  08:00:00  08:15:00  LINEA_C   \n",
       "1296432   201701  01/01/2017  08:00:00  08:15:00  LINEA_C   \n",
       "1296433   201701  01/01/2017  08:00:00  08:15:00  LINEA_C   \n",
       "1296434   201701  01/01/2017  08:00:00  08:15:00  LINEA_C   \n",
       "\n",
       "                      MOLINETE ESTACION  PAX_PAGOS  PAX_PASES_PAGOS  \\\n",
       "1296430  LINEA_C_RETIRO_TURN01   RETIRO          1                0   \n",
       "1296431  LINEA_C_RETIRO_TURN11   RETIRO          9                0   \n",
       "1296432  LINEA_C_RETIRO_TURN12   RETIRO          4                0   \n",
       "1296433  LINEA_C_RETIRO_TURN04   RETIRO          0                0   \n",
       "1296434  LINEA_C_RETIRO_TURN09   RETIRO          5                0   \n",
       "\n",
       "         PAX_FRANQ  TOTAL  ID  \n",
       "1296430          0      1  13  \n",
       "1296431          1     10  13  \n",
       "1296432          0      4  13  \n",
       "1296433          1      1  13  \n",
       "1296434          1      6  13  "
      ]
     },
     "execution_count": 233,
     "metadata": {},
     "output_type": "execute_result"
    }
   ],
   "source": [
    "molinetes_c_ind_cons = molinetes_c[(molinetes_c['ESTACION'] == 'INDEPENDENCIA') | (molinetes_c['ESTACION'] == 'RETIRO')  ]\n",
    "molinetes_c_ind_cons.head()"
   ]
  },
  {
   "cell_type": "code",
   "execution_count": 234,
   "metadata": {},
   "outputs": [
    {
     "data": {
      "image/png": "[encoded data removed]",
      "text/plain": [
       "<Figure size 432x288 with 1 Axes>"
      ]
     },
     "metadata": {},
     "output_type": "display_data"
    }
   ],
   "source": [
    "plt.plot(molinetes_c_pivot.index, molinetes_c_pivot['INDEPENDENCIA'], label='INDEPENDENCIA');\n",
    "plt.plot(molinetes_c_pivot.index, molinetes_c_pivot['RETIRO'], label='RETIRO');\n",
    "plt.legend(loc='upper left', bbox_to_anchor=(1,1))\n",
    "plt.title('Cantidad de tickes de molinete por mes')\n",
    "plt.xlabel('Cantidad de tickets')\n",
    "plt.ylabel('Mes')\n",
    "plt.show()"
   ]
  },
  {
   "cell_type": "code",
   "execution_count": null,
   "metadata": {},
   "outputs": [],
   "source": []
  }
 ],
 "metadata": {
  "kernelspec": {
   "display_name": "Python 3",
   "language": "python",
   "name": "python3"
  },
  "language_info": {
   "codemirror_mode": {
    "name": "ipython",
    "version": 3
   },
   "file_extension": ".py",
   "mimetype": "text/x-python",
   "name": "python",
   "nbconvert_exporter": "python",
   "pygments_lexer": "ipython3",
   "version": "3.6.4"
  }
 },
 "nbformat": 4,
 "nbformat_minor": 2
}
