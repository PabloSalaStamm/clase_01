{
 "cells": [
  {
   "cell_type": "markdown",
   "metadata": {
    "colab_type": "text",
    "id": "nP84DR6FiNDw"
   },
   "source": [
    "# ClusterAI 2020\n",
    "# Ciencia de Datos - Ingenieria Industrial UTN BA\n",
    "# Curso I5521\n",
    "# Clase 01: analisis exploratorio de datos con datos de Google Play\n",
    "#### Elaborado por: Nicolás Aguirre"
   ]
  },
  {
   "cell_type": "markdown",
   "metadata": {
    "colab_type": "text",
    "id": "EtSj3GImiNDz"
   },
   "source": [
    "## Librerias"
   ]
  },
  {
   "cell_type": "code",
   "execution_count": 1,
   "metadata": {
    "colab": {},
    "colab_type": "code",
    "id": "E3LVbuOgJYwc"
   },
   "outputs": [],
   "source": [
    "#Importar paquetes de herramientas:\n",
    "\n",
    "#Datos\n",
    "import pandas as pd\n",
    "import numpy as np\n",
    "#Graficos \n",
    "import matplotlib.pyplot as plt\n",
    "import seaborn as sns\n",
    "#Otros \n",
    "import warnings\n",
    "warnings.filterwarnings('ignore')"
   ]
  },
  {
   "cell_type": "markdown",
   "metadata": {
    "colab_type": "text",
    "id": "ABY_m2g2hr3m"
   },
   "source": [
    "# Dataset"
   ]
  },
  {
   "cell_type": "markdown",
   "metadata": {
    "colab_type": "text",
    "id": "FVp6LLaGhr3m"
   },
   "source": [
    "El dataset  que usaremos se encuentra en:\n",
    "  \n",
    "https://www.kaggle.com/lava18/google-play-store-apps\n",
    "\n",
    "Una vez descargado, indicamos la direccion del archivo descargado a la funcion \"pd.read_csv()\" para importarlo como un objeto Pandas DataFrame. Si el archivo se encuentra en la misma carpeta que la notebook, con indicarle el nombre es suficiente.\n",
    "\n",
    "Ademas, usaremos la funcion \"np.shape()\" y y el metodo \".head()\" para:\n",
    "\n",
    "* Verificar que se haya cargado bien el dataset: En algunos casos, debido a un error en el formato del archivo \".csv\", las columnas y/o registros se cargan incorrectamente. En estos casos \"pd.read_csv()\" no devuelve error pero lo notaremos cuando usemos la funcion \".head()\".\n",
    "\n",
    "\n",
    "* Tener la dimension del dataset: Cantidad de registros y cantidad de columnas.\n",
    "\n",
    "\n",
    "* Tener una base de la cantidad original de registros. Para que a medida que vayamos aplicando distintos filtros que limpien nuestros datos tengamos una numero de referencia. Si aplicamos un filtro, y de repente perdemos el 90% de los datos, lo mas probable es que en algo nos hayamos equivocado."
   ]
  },
  {
   "cell_type": "code",
   "execution_count": 3,
   "metadata": {},
   "outputs": [
    {
     "name": "stdout",
     "output_type": "stream",
     "text": [
      "clusterai_2020_clase01.pdf\r\n",
      "clusterai_2020_clase01_EDA_google_play_store.ipynb\r\n",
      "clusterai_2020_clase01_dset_googleplaystore.csv\r\n",
      "clusterai_2020_clase01_eda_subtes.ipynb\r\n",
      "molinetes-2017.zip\r\n"
     ]
    }
   ],
   "source": [
    "ls"
   ]
  },
  {
   "cell_type": "code",
   "execution_count": 4,
   "metadata": {
    "colab": {},
    "colab_type": "code",
    "id": "Jh-ZGb5CJbWM"
   },
   "outputs": [],
   "source": [
    "google_df = pd.read_csv('clusterai_2020_clase01_dset_googleplaystore.csv')"
   ]
  },
  {
   "cell_type": "code",
   "execution_count": 5,
   "metadata": {
    "colab": {},
    "colab_type": "code",
    "id": "RZzJCEGJiND5"
   },
   "outputs": [
    {
     "name": "stdout",
     "output_type": "stream",
     "text": [
      "Filas: 10841\n",
      "Columnas: 13\r\n",
      "\n",
      "Output de \".head(5)\": \n"
     ]
    },
    {
     "data": {
      "text/html": [
       "<div>\n",
       "<style scoped>\n",
       "    .dataframe tbody tr th:only-of-type {\n",
       "        vertical-align: middle;\n",
       "    }\n",
       "\n",
       "    .dataframe tbody tr th {\n",
       "        vertical-align: top;\n",
       "    }\n",
       "\n",
       "    .dataframe thead th {\n",
       "        text-align: right;\n",
       "    }\n",
       "</style>\n",
       "<table border=\"1\" class=\"dataframe\">\n",
       "  <thead>\n",
       "    <tr style=\"text-align: right;\">\n",
       "      <th></th>\n",
       "      <th>App</th>\n",
       "      <th>Category</th>\n",
       "      <th>Rating</th>\n",
       "      <th>Reviews</th>\n",
       "      <th>Size</th>\n",
       "      <th>Installs</th>\n",
       "      <th>Type</th>\n",
       "      <th>Price</th>\n",
       "      <th>Content Rating</th>\n",
       "      <th>Genres</th>\n",
       "      <th>Last Updated</th>\n",
       "      <th>Current Ver</th>\n",
       "      <th>Android Ver</th>\n",
       "    </tr>\n",
       "  </thead>\n",
       "  <tbody>\n",
       "    <tr>\n",
       "      <th>0</th>\n",
       "      <td>Photo Editor &amp; Candy Camera &amp; Grid &amp; ScrapBook</td>\n",
       "      <td>ART_AND_DESIGN</td>\n",
       "      <td>4.1</td>\n",
       "      <td>159</td>\n",
       "      <td>19M</td>\n",
       "      <td>10,000+</td>\n",
       "      <td>Free</td>\n",
       "      <td>0</td>\n",
       "      <td>Everyone</td>\n",
       "      <td>Art &amp; Design</td>\n",
       "      <td>January 7, 2018</td>\n",
       "      <td>1.0.0</td>\n",
       "      <td>4.0.3 and up</td>\n",
       "    </tr>\n",
       "    <tr>\n",
       "      <th>1</th>\n",
       "      <td>Coloring book moana</td>\n",
       "      <td>ART_AND_DESIGN</td>\n",
       "      <td>3.9</td>\n",
       "      <td>967</td>\n",
       "      <td>14M</td>\n",
       "      <td>500,000+</td>\n",
       "      <td>Free</td>\n",
       "      <td>0</td>\n",
       "      <td>Everyone</td>\n",
       "      <td>Art &amp; Design;Pretend Play</td>\n",
       "      <td>January 15, 2018</td>\n",
       "      <td>2.0.0</td>\n",
       "      <td>4.0.3 and up</td>\n",
       "    </tr>\n",
       "    <tr>\n",
       "      <th>2</th>\n",
       "      <td>U Launcher Lite – FREE Live Cool Themes, Hide ...</td>\n",
       "      <td>ART_AND_DESIGN</td>\n",
       "      <td>4.7</td>\n",
       "      <td>87510</td>\n",
       "      <td>8.7M</td>\n",
       "      <td>5,000,000+</td>\n",
       "      <td>Free</td>\n",
       "      <td>0</td>\n",
       "      <td>Everyone</td>\n",
       "      <td>Art &amp; Design</td>\n",
       "      <td>August 1, 2018</td>\n",
       "      <td>1.2.4</td>\n",
       "      <td>4.0.3 and up</td>\n",
       "    </tr>\n",
       "    <tr>\n",
       "      <th>3</th>\n",
       "      <td>Sketch - Draw &amp; Paint</td>\n",
       "      <td>ART_AND_DESIGN</td>\n",
       "      <td>4.5</td>\n",
       "      <td>215644</td>\n",
       "      <td>25M</td>\n",
       "      <td>50,000,000+</td>\n",
       "      <td>Free</td>\n",
       "      <td>0</td>\n",
       "      <td>Teen</td>\n",
       "      <td>Art &amp; Design</td>\n",
       "      <td>June 8, 2018</td>\n",
       "      <td>Varies with device</td>\n",
       "      <td>4.2 and up</td>\n",
       "    </tr>\n",
       "    <tr>\n",
       "      <th>4</th>\n",
       "      <td>Pixel Draw - Number Art Coloring Book</td>\n",
       "      <td>ART_AND_DESIGN</td>\n",
       "      <td>4.3</td>\n",
       "      <td>967</td>\n",
       "      <td>2.8M</td>\n",
       "      <td>100,000+</td>\n",
       "      <td>Free</td>\n",
       "      <td>0</td>\n",
       "      <td>Everyone</td>\n",
       "      <td>Art &amp; Design;Creativity</td>\n",
       "      <td>June 20, 2018</td>\n",
       "      <td>1.1</td>\n",
       "      <td>4.4 and up</td>\n",
       "    </tr>\n",
       "  </tbody>\n",
       "</table>\n",
       "</div>"
      ],
      "text/plain": [
       "                                                 App        Category  Rating  \\\n",
       "0     Photo Editor & Candy Camera & Grid & ScrapBook  ART_AND_DESIGN     4.1   \n",
       "1                                Coloring book moana  ART_AND_DESIGN     3.9   \n",
       "2  U Launcher Lite – FREE Live Cool Themes, Hide ...  ART_AND_DESIGN     4.7   \n",
       "3                              Sketch - Draw & Paint  ART_AND_DESIGN     4.5   \n",
       "4              Pixel Draw - Number Art Coloring Book  ART_AND_DESIGN     4.3   \n",
       "\n",
       "  Reviews  Size     Installs  Type Price Content Rating  \\\n",
       "0     159   19M      10,000+  Free     0       Everyone   \n",
       "1     967   14M     500,000+  Free     0       Everyone   \n",
       "2   87510  8.7M   5,000,000+  Free     0       Everyone   \n",
       "3  215644   25M  50,000,000+  Free     0           Teen   \n",
       "4     967  2.8M     100,000+  Free     0       Everyone   \n",
       "\n",
       "                      Genres      Last Updated         Current Ver  \\\n",
       "0               Art & Design   January 7, 2018               1.0.0   \n",
       "1  Art & Design;Pretend Play  January 15, 2018               2.0.0   \n",
       "2               Art & Design    August 1, 2018               1.2.4   \n",
       "3               Art & Design      June 8, 2018  Varies with device   \n",
       "4    Art & Design;Creativity     June 20, 2018                 1.1   \n",
       "\n",
       "    Android Ver  \n",
       "0  4.0.3 and up  \n",
       "1  4.0.3 and up  \n",
       "2  4.0.3 and up  \n",
       "3    4.2 and up  \n",
       "4    4.4 and up  "
      ]
     },
     "execution_count": 5,
     "metadata": {},
     "output_type": "execute_result"
    }
   ],
   "source": [
    "filas = np.shape(google_df)[0] # [0] para la primera dimension\n",
    "print(f'Filas: {filas}')\n",
    "\n",
    "columnas = np.shape(google_df)[1] # [1] para la segunda dimension\n",
    "print(f'Columnas: {columnas}\\r\\n')\n",
    "\n",
    "print('Output de \".head(5)\": ')\n",
    "google_df.head(5)"
   ]
  },
  {
   "cell_type": "markdown",
   "metadata": {
    "colab_type": "text",
    "id": "SPeEL8tghr3v"
   },
   "source": [
    "### Columnas\n",
    "Si queremos saber el nombre de las columas en una variable utilizamos el metodo *.columns()*.\n",
    "\n",
    "Para guardarlo, simplemente lo asignamos a una variable."
   ]
  },
  {
   "cell_type": "code",
   "execution_count": 6,
   "metadata": {
    "colab": {},
    "colab_type": "code",
    "id": "tMsIy64qJdPe",
    "scrolled": true
   },
   "outputs": [
    {
     "data": {
      "text/plain": [
       "array(['App', 'Category', 'Rating', 'Reviews', 'Size', 'Installs', 'Type',\n",
       "       'Price', 'Content Rating', 'Genres', 'Last Updated', 'Current Ver',\n",
       "       'Android Ver'], dtype=object)"
      ]
     },
     "execution_count": 6,
     "metadata": {},
     "output_type": "execute_result"
    }
   ],
   "source": [
    "nombre_columnas = google_df.columns.values\n",
    "nombre_columnas"
   ]
  },
  {
   "cell_type": "markdown",
   "metadata": {
    "colab_type": "text",
    "id": "H--QSzalhr30"
   },
   "source": [
    "# Limpieza de Datos"
   ]
  },
  {
   "cell_type": "markdown",
   "metadata": {
    "colab_type": "text",
    "id": "JNeRb9A3hr31"
   },
   "source": [
    "En esta parte nos vamos a encargar de limpiar:\n",
    "\n",
    "* Duplicados  --> [.drop_duplicates()](https://pandas.pydata.org/pandas-docs/stable/reference/api/pandas.DataFrame.drop_duplicates.html)\n",
    "\n",
    "\n",
    "* Simbolos --> [str.replace](https://pandas.pydata.org/pandas-docs/stable/reference/api/pandas.Series.str.replace.html) and [str.extract](https://pandas.pydata.org/pandas-docs/stable/reference/api/pandas.Series.str.extract.html)\n",
    "\n",
    "\n",
    "\n",
    "* 'NaN' --> [.dropna()](https://pandas.pydata.org/pandas-docs/stable/reference/api/pandas.DataFrame.dropna.html)\n"
   ]
  },
  {
   "cell_type": "markdown",
   "metadata": {
    "colab_type": "text",
    "id": "SkuVrfxvhr32"
   },
   "source": [
    "#### Duplicados"
   ]
  },
  {
   "cell_type": "code",
   "execution_count": 7,
   "metadata": {
    "colab": {},
    "colab_type": "code",
    "id": "XOO49Ikqhr33"
   },
   "outputs": [],
   "source": [
    "# Vamos a eliminar las de la columna 'App' los valores repetidos, conservando unicamente la primera ocurrencia.\n",
    "google_df.drop_duplicates(subset='App', inplace=True, keep='first')\n",
    "\n",
    "# Las columnas para quitar los duplicados se indican en el argumento 'subset'\n",
    "# mientras que la primera ocurrencia se indica con el argumento 'keep'\n",
    "\n",
    "# La opcion 'inplace' nos evitar tener asignar la salida a una variable.\n",
    "# Directamente se guarda sobre 'google_df'. Equivale a:\n",
    "\n",
    "#google_df = google_df.drop_duplicates(subset='App', keep='first')"
   ]
  },
  {
   "cell_type": "markdown",
   "metadata": {
    "colab_type": "text",
    "id": "LT8KvWXlhr37"
   },
   "source": [
    "#### Simbolos"
   ]
  },
  {
   "cell_type": "markdown",
   "metadata": {
    "colab_type": "text",
    "id": "sYZl7ebChr39"
   },
   "source": [
    "Las columnas 'Installs', 'Size', 'Price' y 'Reviews' tienen informacion en la que estamos interesados.\n",
    "\n",
    "El problema es que estan en formato texto (o *string*) y hay simbolos y valores que nos impiden manipularlos en formato numerico ( *int* o *float*)"
   ]
  },
  {
   "cell_type": "code",
   "execution_count": 8,
   "metadata": {
    "colab": {},
    "colab_type": "code",
    "id": "InE3kQl1hr39",
    "scrolled": false
   },
   "outputs": [
    {
     "name": "stdout",
     "output_type": "stream",
     "text": [
      "En total hay 22 tipos de valores en \"Install\"\r\n",
      "\n",
      "\n",
      " ['10,000+' '500,000+' '5,000,000+' '50,000,000+' '100,000+' '50,000+'\n",
      " '1,000,000+' '10,000,000+' '5,000+' '100,000,000+' '1,000,000,000+'\n",
      " '1,000+' '500,000,000+' '50+' '100+' '500+' '10+' '1+' '5+' '0+' '0'\n",
      " 'Free']\n"
     ]
    }
   ],
   "source": [
    "#Installs\n",
    "q_installs = len(google_df['Installs'].unique()) # Cantidad de valores unicos en 'Installs'\n",
    "\n",
    "print(f'En total hay {q_installs} tipos de valores en \"Install\"\\r\\n')\n",
    "print(\"\\n\", google_df['Installs'].unique())"
   ]
  },
  {
   "cell_type": "markdown",
   "metadata": {
    "colab_type": "text",
    "id": "lZFb9KtGhr4B"
   },
   "source": [
    "Podemos notar 2 simbolos de la cell anterior que debemos eliminar para poder usar el dato como numero y no como cadena de texto, y un valor \"Free\" en algun registro que esta mal cargado.\n",
    "\n",
    "Primero vamos a quitar el \"Free\" y luego vamos a reemplazaar los simbolos \"+\" y \",\""
   ]
  },
  {
   "cell_type": "code",
   "execution_count": 9,
   "metadata": {
    "colab": {},
    "colab_type": "code",
    "id": "jUuOM9_lhr4C"
   },
   "outputs": [
    {
     "name": "stdout",
     "output_type": "stream",
     "text": [
      "Filas: 9659\n"
     ]
    }
   ],
   "source": [
    "# Eliminacion manual de valores que no deberiamos tener en columas\n",
    "google_df = google_df[google_df['Installs'] != 'Free']\n",
    "\n",
    "# Aqui lo que hicimos fue conservar unicamente los registros cuyos valores en la columa \"Installs\" sean distintos (=!) a 'Free'\n",
    "filas = np.shape(google_df)[0] # [0] para la primera dimension\n",
    "print(f'Filas: {filas}')"
   ]
  },
  {
   "cell_type": "code",
   "execution_count": 10,
   "metadata": {
    "colab": {},
    "colab_type": "code",
    "id": "vku046dRhr4H"
   },
   "outputs": [],
   "source": [
    "#Reemplaamos los caraccteres '+' y ','\n",
    "google_df['Installs'] = google_df['Installs'].str.replace(',','')\n",
    "google_df['Installs'] = google_df['Installs'].str.replace('+','')\n",
    "google_df = google_df.astype({\"Installs\": int})"
   ]
  },
  {
   "cell_type": "code",
   "execution_count": 11,
   "metadata": {
    "colab": {},
    "colab_type": "code",
    "id": "TrrYaqqghr4L",
    "scrolled": true
   },
   "outputs": [
    {
     "name": "stdout",
     "output_type": "stream",
     "text": [
      "En total hay 20 labels de Install\r\n",
      "\n",
      "\n",
      " [     10000     500000    5000000   50000000     100000      50000\n",
      "    1000000   10000000       5000  100000000 1000000000       1000\n",
      "  500000000         50        100        500         10          1\n",
      "          5          0]\n"
     ]
    }
   ],
   "source": [
    "q_installs = len(google_df['Installs'].unique())\n",
    "print(f'En total hay {q_installs} labels de Install\\r\\n')\n",
    "print(\"\\n\", google_df['Installs'].unique())"
   ]
  },
  {
   "cell_type": "code",
   "execution_count": 12,
   "metadata": {
    "colab": {},
    "colab_type": "code",
    "id": "IBEh4E56hr4P"
   },
   "outputs": [
    {
     "name": "stdout",
     "output_type": "stream",
     "text": [
      "En total hay 461 tipos de valores en \"Size\"\r\n",
      "\n",
      "\n",
      " ['19M' '14M' '8.7M' '25M' '2.8M' '5.6M' '29M' '33M' '3.1M' '28M' '12M'\n",
      " '20M' '21M' '37M' '2.7M' '5.5M' '17M' '39M' '31M' '4.2M' '7.0M' '23M'\n",
      " '6.0M' '6.1M' '4.6M' '9.2M' '5.2M' '11M' '24M' 'Varies with device'\n",
      " '9.4M' '15M' '10M' '1.2M' '26M' '8.0M' '7.9M' '56M' '57M' '35M' '54M'\n",
      " '201k' '3.6M' '5.7M' '8.6M' '2.4M' '27M' '2.5M' '16M' '3.4M' '8.9M'\n",
      " '3.9M' '2.9M' '38M' '32M' '5.4M' '18M' '1.1M' '2.2M' '4.5M' '9.8M' '52M'\n",
      " '9.0M' '6.7M' '30M' '2.6M' '7.1M' '3.7M' '22M' '7.4M' '6.4M' '3.2M'\n",
      " '8.2M' '9.9M' '4.9M' '9.5M' '5.0M' '5.9M' '13M' '73M' '6.8M' '3.5M'\n",
      " '4.0M' '2.3M' '7.2M' '2.1M' '42M' '7.3M' '9.1M' '55M' '23k' '6.5M' '1.5M'\n",
      " '7.5M' '51M' '41M' '48M' '8.5M' '46M' '8.3M' '4.3M' '4.7M' '3.3M' '40M'\n",
      " '7.8M' '8.8M' '6.6M' '5.1M' '61M' '66M' '79k' '8.4M' '118k' '44M' '695k'\n",
      " '1.6M' '6.2M' '18k' '53M' '1.4M' '3.0M' '5.8M' '3.8M' '9.6M' '45M' '63M'\n",
      " '49M' '77M' '4.4M' '4.8M' '70M' '6.9M' '9.3M' '10.0M' '8.1M' '36M' '84M'\n",
      " '97M' '2.0M' '1.9M' '1.8M' '5.3M' '47M' '556k' '526k' '76M' '7.6M' '59M'\n",
      " '9.7M' '78M' '72M' '43M' '7.7M' '6.3M' '334k' '34M' '93M' '65M' '79M'\n",
      " '100M' '58M' '50M' '68M' '64M' '67M' '60M' '94M' '232k' '99M' '624k'\n",
      " '95M' '8.5k' '41k' '292k' '11k' '80M' '1.7M' '74M' '62M' '69M' '75M'\n",
      " '98M' '85M' '82M' '96M' '87M' '71M' '86M' '91M' '81M' '92M' '83M' '88M'\n",
      " '704k' '862k' '899k' '378k' '266k' '375k' '1.3M' '975k' '980k' '4.1M'\n",
      " '89M' '696k' '544k' '525k' '920k' '779k' '853k' '720k' '713k' '772k'\n",
      " '318k' '58k' '241k' '196k' '857k' '51k' '953k' '865k' '251k' '930k'\n",
      " '540k' '313k' '746k' '203k' '26k' '314k' '239k' '371k' '220k' '730k'\n",
      " '756k' '91k' '293k' '17k' '74k' '14k' '317k' '78k' '924k' '902k' '818k'\n",
      " '81k' '939k' '169k' '45k' '475k' '965k' '90M' '545k' '61k' '283k' '655k'\n",
      " '714k' '93k' '872k' '121k' '322k' '1.0M' '976k' '172k' '238k' '549k'\n",
      " '206k' '954k' '444k' '717k' '210k' '609k' '308k' '705k' '306k' '904k'\n",
      " '473k' '175k' '350k' '383k' '454k' '421k' '70k' '812k' '442k' '842k'\n",
      " '417k' '412k' '459k' '478k' '335k' '782k' '721k' '430k' '429k' '192k'\n",
      " '200k' '460k' '728k' '496k' '816k' '414k' '506k' '887k' '613k' '243k'\n",
      " '569k' '778k' '683k' '592k' '319k' '186k' '840k' '647k' '191k' '373k'\n",
      " '437k' '598k' '716k' '585k' '982k' '222k' '219k' '55k' '948k' '323k'\n",
      " '691k' '511k' '951k' '963k' '25k' '554k' '351k' '27k' '82k' '208k' '913k'\n",
      " '514k' '551k' '29k' '103k' '898k' '743k' '116k' '153k' '209k' '353k'\n",
      " '499k' '173k' '597k' '809k' '122k' '411k' '400k' '801k' '787k' '237k'\n",
      " '50k' '643k' '986k' '97k' '516k' '837k' '780k' '961k' '269k' '20k' '498k'\n",
      " '600k' '749k' '642k' '881k' '72k' '656k' '601k' '221k' '228k' '108k'\n",
      " '940k' '176k' '33k' '663k' '34k' '942k' '259k' '164k' '458k' '245k'\n",
      " '629k' '28k' '288k' '775k' '785k' '636k' '916k' '994k' '309k' '485k'\n",
      " '914k' '903k' '608k' '500k' '54k' '562k' '847k' '957k' '688k' '811k'\n",
      " '270k' '48k' '329k' '523k' '921k' '874k' '981k' '784k' '280k' '24k'\n",
      " '518k' '754k' '892k' '154k' '860k' '364k' '387k' '626k' '161k' '879k'\n",
      " '39k' '970k' '170k' '141k' '160k' '144k' '143k' '190k' '376k' '193k'\n",
      " '246k' '73k' '658k' '992k' '253k' '420k' '404k' '470k' '226k' '240k'\n",
      " '89k' '234k' '257k' '861k' '467k' '157k' '44k' '676k' '67k' '552k' '885k'\n",
      " '1020k' '582k' '619k']\n",
      "Filas: 9659\n"
     ]
    }
   ],
   "source": [
    "#Size\n",
    "q_size = len(google_df['Size'].unique()) # Cantidad de valores unicos en 'Size'\n",
    "print(f'En total hay {q_size} tipos de valores en \"Size\"\\r\\n')\n",
    "print(\"\\n\", google_df['Size'].unique())\n",
    "filas = np.shape(google_df)[0]\n",
    "print(f'Filas: {filas}')"
   ]
  },
  {
   "cell_type": "markdown",
   "metadata": {
    "colab_type": "text",
    "id": "HSS1umGohr4T"
   },
   "source": [
    "En la columna \"Size\", tenemos problemas de unidades, en algunos casos tenemos el tamaño en Megabytes (M) y en otras en Kilobytes (k), y algunos valores con el texto \"Varies with device\".\n",
    "\n",
    "Primero, vamos a reemplazar los valores 'Varies with device' por NaN's.\n",
    "Luego, vamos a separar los numeros que esten en formato texto y los guardaremos en formato numerico.\n",
    "Ademas, vamos a homogeneizar el tamaño a 'M'. Para eso, extraeremos y reemplazaremos los caracteres 'k' y 'M'. \n",
    "\n",
    "\n",
    "Finalmente, los NaN's correspondiente a los valores \"Varies with device\", reemplazarlos por la media de cada categoria, para eliminar la manor cantidad de registros. Esta ultima tambien es una solucion, asi que proponemos que tambien la prueben."
   ]
  },
  {
   "cell_type": "code",
   "execution_count": 13,
   "metadata": {
    "colab": {},
    "colab_type": "code",
    "id": "OCEMs5q3hr4Y"
   },
   "outputs": [],
   "source": [
    "#Dejamos el peso de las app en Mb y convertimos aquellas que esten en Kb.\n",
    "google_df['Size'].replace('Varies with device', np.nan, inplace = True )"
   ]
  },
  {
   "cell_type": "code",
   "execution_count": 14,
   "metadata": {
    "colab": {},
    "colab_type": "code",
    "id": "VKP9qc5shr4c"
   },
   "outputs": [
    {
     "name": "stdout",
     "output_type": "stream",
     "text": [
      "0         19.0\n",
      "1         14.0\n",
      "2          8.7\n",
      "3         25.0\n",
      "4          2.8\n",
      "5          5.6\n",
      "6         19.0\n",
      "7         29.0\n",
      "8         33.0\n",
      "9          3.1\n",
      "10        28.0\n",
      "11        12.0\n",
      "12        20.0\n",
      "13        21.0\n",
      "14        37.0\n",
      "15         2.7\n",
      "16         5.5\n",
      "17        17.0\n",
      "18        39.0\n",
      "19        31.0\n",
      "20        14.0\n",
      "21        12.0\n",
      "22         4.2\n",
      "23         7.0\n",
      "24        23.0\n",
      "25         6.0\n",
      "26        25.0\n",
      "27         6.1\n",
      "28         4.6\n",
      "29         4.2\n",
      "         ...  \n",
      "10811      3.9\n",
      "10812     13.0\n",
      "10813      2.7\n",
      "10814     31.0\n",
      "10815      4.9\n",
      "10816      6.8\n",
      "10817      8.0\n",
      "10818      1.5\n",
      "10819      3.6\n",
      "10820      8.6\n",
      "10821      2.5\n",
      "10822      3.1\n",
      "10823      2.9\n",
      "10824     82.0\n",
      "10825      7.7\n",
      "10826      NaN\n",
      "10827     13.0\n",
      "10828     13.0\n",
      "10829      7.4\n",
      "10830      2.3\n",
      "10831      9.8\n",
      "10832    582.0\n",
      "10833    619.0\n",
      "10834      2.6\n",
      "10835      9.6\n",
      "10836     53.0\n",
      "10837      3.6\n",
      "10838      9.5\n",
      "10839      NaN\n",
      "10840     19.0\n",
      "Name: Size, Length: 9659, dtype: float64 \r\n",
      "\n",
      "11.0     183\n",
      "12.0     181\n",
      "14.0     178\n",
      "13.0     177\n",
      "15.0     163\n",
      "17.0     148\n",
      "26.0     144\n",
      "10.0     138\n",
      "16.0     137\n",
      "19.0     130\n",
      "21.0     124\n",
      "20.0     123\n",
      "18.0     121\n",
      "25.0     120\n",
      "24.0     118\n",
      "23.0     105\n",
      "22.0     104\n",
      "29.0      94\n",
      "27.0      92\n",
      "28.0      91\n",
      "30.0      83\n",
      "3.3       73\n",
      "33.0      73\n",
      "2.3       68\n",
      "2.5       68\n",
      "37.0      67\n",
      "2.9       67\n",
      "31.0      67\n",
      "2.8       65\n",
      "35.0      64\n",
      "        ... \n",
      "837.0      1\n",
      "373.0      1\n",
      "121.0      1\n",
      "881.0      1\n",
      "103.0      1\n",
      "420.0      1\n",
      "920.0      1\n",
      "812.0      1\n",
      "695.0      1\n",
      "624.0      1\n",
      "902.0      1\n",
      "193.0      1\n",
      "924.0      1\n",
      "329.0      1\n",
      "809.0      1\n",
      "351.0      1\n",
      "280.0      1\n",
      "376.0      1\n",
      "246.0      1\n",
      "186.0      1\n",
      "122.0      1\n",
      "161.0      1\n",
      "496.0      1\n",
      "371.0      1\n",
      "232.0      1\n",
      "951.0      1\n",
      "608.0      1\n",
      "421.0      1\n",
      "683.0      1\n",
      "173.0      1\n",
      "Name: Size, Length: 420, dtype: int64\n"
     ]
    }
   ],
   "source": [
    "#Eliminamos las letras k y M que estan al final de cada valor. #(1)\n",
    "\n",
    "output = google_df.Size.replace(r'[kM]', '', regex=True).astype(float) # Valores enteros sin las letras k/M\n",
    "print(output,'\\r\\n')\n",
    "print(output.value_counts())"
   ]
  },
  {
   "cell_type": "code",
   "execution_count": 15,
   "metadata": {
    "colab": {},
    "colab_type": "code",
    "id": "PPwshuejhr4g"
   },
   "outputs": [
    {
     "name": "stdout",
     "output_type": "stream",
     "text": [
      "0          M\n",
      "1          M\n",
      "2          M\n",
      "3          M\n",
      "4          M\n",
      "5          M\n",
      "6          M\n",
      "7          M\n",
      "8          M\n",
      "9          M\n",
      "10         M\n",
      "11         M\n",
      "12         M\n",
      "13         M\n",
      "14         M\n",
      "15         M\n",
      "16         M\n",
      "17         M\n",
      "18         M\n",
      "19         M\n",
      "20         M\n",
      "21         M\n",
      "22         M\n",
      "23         M\n",
      "24         M\n",
      "25         M\n",
      "26         M\n",
      "27         M\n",
      "28         M\n",
      "29         M\n",
      "        ... \n",
      "10811      M\n",
      "10812      M\n",
      "10813      M\n",
      "10814      M\n",
      "10815      M\n",
      "10816      M\n",
      "10817      M\n",
      "10818      M\n",
      "10819      M\n",
      "10820      M\n",
      "10821      M\n",
      "10822      M\n",
      "10823      M\n",
      "10824      M\n",
      "10825      M\n",
      "10826    NaN\n",
      "10827      M\n",
      "10828      M\n",
      "10829      M\n",
      "10830      M\n",
      "10831      M\n",
      "10832      k\n",
      "10833      k\n",
      "10834      M\n",
      "10835      M\n",
      "10836      M\n",
      "10837      M\n",
      "10838      M\n",
      "10839    NaN\n",
      "10840      M\n",
      "Name: Size, Length: 9659, dtype: object \r\n",
      "\n",
      "M    8118\n",
      "k     314\n",
      "Name: Size, dtype: int64\n"
     ]
    }
   ],
   "source": [
    "#Separamos los grupos K y M #(2)\n",
    "output = google_df.Size.str.extract(r'([kM])', expand=False)\n",
    "print(output,'\\r\\n')\n",
    "print(output.value_counts())"
   ]
  },
  {
   "cell_type": "code",
   "execution_count": 16,
   "metadata": {
    "colab": {},
    "colab_type": "code",
    "id": "_7GZpO8yhr4j"
   },
   "outputs": [
    {
     "name": "stdout",
     "output_type": "stream",
     "text": [
      "0        M\n",
      "1        M\n",
      "2        M\n",
      "3        M\n",
      "4        M\n",
      "5        M\n",
      "6        M\n",
      "7        M\n",
      "8        M\n",
      "9        M\n",
      "10       M\n",
      "11       M\n",
      "12       M\n",
      "13       M\n",
      "14       M\n",
      "15       M\n",
      "16       M\n",
      "17       M\n",
      "18       M\n",
      "19       M\n",
      "20       M\n",
      "21       M\n",
      "22       M\n",
      "23       M\n",
      "24       M\n",
      "25       M\n",
      "26       M\n",
      "27       M\n",
      "28       M\n",
      "29       M\n",
      "        ..\n",
      "10811    M\n",
      "10812    M\n",
      "10813    M\n",
      "10814    M\n",
      "10815    M\n",
      "10816    M\n",
      "10817    M\n",
      "10818    M\n",
      "10819    M\n",
      "10820    M\n",
      "10821    M\n",
      "10822    M\n",
      "10823    M\n",
      "10824    M\n",
      "10825    M\n",
      "10826    1\n",
      "10827    M\n",
      "10828    M\n",
      "10829    M\n",
      "10830    M\n",
      "10831    M\n",
      "10832    k\n",
      "10833    k\n",
      "10834    M\n",
      "10835    M\n",
      "10836    M\n",
      "10837    M\n",
      "10838    M\n",
      "10839    1\n",
      "10840    M\n",
      "Name: Size, Length: 9659, dtype: object \r\n",
      "\n",
      "M    8118\n",
      "1    1227\n",
      "k     314\n",
      "Name: Size, dtype: int64\n"
     ]
    }
   ],
   "source": [
    "#Los NaN los reemplazamos por 1 para no perder registros #(3)\n",
    "output = google_df.Size.str.extract(r'([kM])', expand=False).fillna(1)\n",
    "print(output,'\\r\\n')\n",
    "print(output.value_counts())"
   ]
  },
  {
   "cell_type": "code",
   "execution_count": 17,
   "metadata": {
    "colab": {},
    "colab_type": "code",
    "id": "JUHlVIe5hr4m"
   },
   "outputs": [
    {
     "name": "stdout",
     "output_type": "stream",
     "text": [
      "1.000    9345\n",
      "0.001     314\n",
      "Name: Size, dtype: int64\n"
     ]
    }
   ],
   "source": [
    "#Homogeneizamos las unidades, k = 10**-3 y M = 1 #(4)\n",
    "output = google_df.Size.str.extract(r'([kM])', expand=False).fillna(1)\\\n",
    ".replace(['k','M'], [10**-3, 1]).astype(float)\n",
    "#print(output,'\\r\\n')\n",
    "print(output.value_counts())"
   ]
  },
  {
   "cell_type": "code",
   "execution_count": 18,
   "metadata": {
    "colab": {},
    "colab_type": "code",
    "id": "mKOLBkrihr4q"
   },
   "outputs": [],
   "source": [
    "# Juntamos todo\n",
    "google_df.Size = (google_df.Size.replace(r'[kM]', '', regex=True).astype(float) * \\\n",
    "             google_df.Size.str.extract(r'([KM])', expand=False)\n",
    "            .fillna(1)\n",
    "            .replace(['k','M'], [10**-3, 1]).astype(float))"
   ]
  },
  {
   "cell_type": "code",
   "execution_count": 19,
   "metadata": {
    "colab": {},
    "colab_type": "code",
    "id": "vLaZ2LdFhr4u"
   },
   "outputs": [
    {
     "data": {
      "text/plain": [
       "0         19.0\n",
       "1         14.0\n",
       "2          8.7\n",
       "3         25.0\n",
       "4          2.8\n",
       "5          5.6\n",
       "6         19.0\n",
       "7         29.0\n",
       "8         33.0\n",
       "9          3.1\n",
       "10        28.0\n",
       "11        12.0\n",
       "12        20.0\n",
       "13        21.0\n",
       "14        37.0\n",
       "15         2.7\n",
       "16         5.5\n",
       "17        17.0\n",
       "18        39.0\n",
       "19        31.0\n",
       "20        14.0\n",
       "21        12.0\n",
       "22         4.2\n",
       "23         7.0\n",
       "24        23.0\n",
       "25         6.0\n",
       "26        25.0\n",
       "27         6.1\n",
       "28         4.6\n",
       "29         4.2\n",
       "         ...  \n",
       "10811      3.9\n",
       "10812     13.0\n",
       "10813      2.7\n",
       "10814     31.0\n",
       "10815      4.9\n",
       "10816      6.8\n",
       "10817      8.0\n",
       "10818      1.5\n",
       "10819      3.6\n",
       "10820      8.6\n",
       "10821      2.5\n",
       "10822      3.1\n",
       "10823      2.9\n",
       "10824     82.0\n",
       "10825      7.7\n",
       "10826      NaN\n",
       "10827     13.0\n",
       "10828     13.0\n",
       "10829      7.4\n",
       "10830      2.3\n",
       "10831      9.8\n",
       "10832    582.0\n",
       "10833    619.0\n",
       "10834      2.6\n",
       "10835      9.6\n",
       "10836     53.0\n",
       "10837      3.6\n",
       "10838      9.5\n",
       "10839      NaN\n",
       "10840     19.0\n",
       "Name: Size, Length: 9659, dtype: float64"
      ]
     },
     "execution_count": 19,
     "metadata": {},
     "output_type": "execute_result"
    }
   ],
   "source": [
    "google_df.Size"
   ]
  },
  {
   "cell_type": "code",
   "execution_count": 20,
   "metadata": {
    "colab": {},
    "colab_type": "code",
    "id": "dKpl8_bHhr4x"
   },
   "outputs": [],
   "source": [
    "#Reemplazamos aquellos registros con 'Varies with device' (ahora NaN) con la media del peso segun la categoria\n",
    "google_df['Size'].fillna(google_df.groupby('Genres')['Size'].transform('mean'), inplace = True)"
   ]
  },
  {
   "cell_type": "code",
   "execution_count": 21,
   "metadata": {
    "colab": {},
    "colab_type": "code",
    "id": "akyI21Sshr40"
   },
   "outputs": [],
   "source": [
    "# A float\n",
    "google_df['Size'] = google_df['Size'].astype(float)\n",
    "google_df['Installs'] = google_df['Installs'].astype(float)"
   ]
  },
  {
   "cell_type": "code",
   "execution_count": 22,
   "metadata": {
    "colab": {},
    "colab_type": "code",
    "id": "0WLiY1Hshr43"
   },
   "outputs": [],
   "source": [
    "#quitamos simbolo '$' y pasamos a float.\n",
    "google_df['Price'] = google_df['Price'].str.replace('$','')\n",
    "google_df['Price'] = google_df['Price'].astype(float)"
   ]
  },
  {
   "cell_type": "code",
   "execution_count": 23,
   "metadata": {
    "colab": {},
    "colab_type": "code",
    "id": "FziXdcfEhr47"
   },
   "outputs": [],
   "source": [
    "google_df['Reviews'] = google_df['Reviews'].astype(int)"
   ]
  },
  {
   "cell_type": "markdown",
   "metadata": {
    "colab_type": "text",
    "id": "4j9vrmkShr4-"
   },
   "source": [
    "**Links para curiosos**\n",
    "\n",
    "Regular Expressions:\n",
    "   - [Documentacion](https://docs.python.org/3/howto/regex.html) \n",
    "   - [YouTube](https://www.youtube.com/watch?v=8DvywoWv6fI&list=WL&index=2&t=21317s) \n",
    "   - [Ejemplos](https://www.geeksforgeeks.org/pattern-matching-python-regex/)"
   ]
  },
  {
   "cell_type": "markdown",
   "metadata": {
    "colab_type": "text",
    "id": "YqR7B9R4JeV6"
   },
   "source": [
    "## NaN"
   ]
  },
  {
   "cell_type": "markdown",
   "metadata": {
    "colab_type": "text",
    "id": "yFygLzG-hr5A"
   },
   "source": [
    "Ahora verificamos que las columnas no tengan NaN.\n",
    "\n",
    "En caso de haberlos, tendremos que decidir:\n",
    "\n",
    "- si son suficientes como para eliminar TODA la columa y perder esa informacion, o\n",
    "\n",
    "        \n",
    "- decidir eliminar unicamente los registros."
   ]
  },
  {
   "cell_type": "code",
   "execution_count": 24,
   "metadata": {
    "colab": {},
    "colab_type": "code",
    "id": "qd2gVY8Bhr5A"
   },
   "outputs": [
    {
     "name": "stdout",
     "output_type": "stream",
     "text": [
      "App               False\n",
      "Category          False\n",
      "Rating             True\n",
      "Reviews           False\n",
      "Size               True\n",
      "Installs          False\n",
      "Type               True\n",
      "Price             False\n",
      "Content Rating    False\n",
      "Genres            False\n",
      "Last Updated      False\n",
      "Current Ver        True\n",
      "Android Ver        True\n",
      "dtype: bool \r\n",
      "\n"
     ]
    }
   ],
   "source": [
    "col_NaN = google_df.isnull().any()\n",
    "print(col_NaN,'\\r\\n')"
   ]
  },
  {
   "cell_type": "code",
   "execution_count": 25,
   "metadata": {
    "colab": {},
    "colab_type": "code",
    "id": "cHkQhYS5hr5E",
    "scrolled": true
   },
   "outputs": [
    {
     "data": {
      "text/plain": [
       "Rating            1463\n",
       "Current Ver          8\n",
       "Size                 3\n",
       "Android Ver          2\n",
       "Type                 1\n",
       "Last Updated         0\n",
       "Genres               0\n",
       "Content Rating       0\n",
       "Price                0\n",
       "Installs             0\n",
       "Reviews              0\n",
       "Category             0\n",
       "App                  0\n",
       "dtype: int64"
      ]
     },
     "execution_count": 25,
     "metadata": {},
     "output_type": "execute_result"
    }
   ],
   "source": [
    "# Cantidad de valores nulos ordenados descendentemente\n",
    "total = google_df.isnull().sum().sort_values(ascending=False)\n",
    "total"
   ]
  },
  {
   "cell_type": "code",
   "execution_count": 26,
   "metadata": {
    "colab": {},
    "colab_type": "code",
    "id": "Ssn7oGRZJgxn"
   },
   "outputs": [
    {
     "data": {
      "text/html": [
       "<div>\n",
       "<style scoped>\n",
       "    .dataframe tbody tr th:only-of-type {\n",
       "        vertical-align: middle;\n",
       "    }\n",
       "\n",
       "    .dataframe tbody tr th {\n",
       "        vertical-align: top;\n",
       "    }\n",
       "\n",
       "    .dataframe thead th {\n",
       "        text-align: right;\n",
       "    }\n",
       "</style>\n",
       "<table border=\"1\" class=\"dataframe\">\n",
       "  <thead>\n",
       "    <tr style=\"text-align: right;\">\n",
       "      <th></th>\n",
       "      <th>Total</th>\n",
       "      <th>Percent</th>\n",
       "    </tr>\n",
       "  </thead>\n",
       "  <tbody>\n",
       "    <tr>\n",
       "      <th>Rating</th>\n",
       "      <td>1463</td>\n",
       "      <td>0.151465</td>\n",
       "    </tr>\n",
       "    <tr>\n",
       "      <th>Current Ver</th>\n",
       "      <td>8</td>\n",
       "      <td>0.000828</td>\n",
       "    </tr>\n",
       "    <tr>\n",
       "      <th>Size</th>\n",
       "      <td>3</td>\n",
       "      <td>0.000311</td>\n",
       "    </tr>\n",
       "    <tr>\n",
       "      <th>Android Ver</th>\n",
       "      <td>2</td>\n",
       "      <td>0.000207</td>\n",
       "    </tr>\n",
       "    <tr>\n",
       "      <th>Type</th>\n",
       "      <td>1</td>\n",
       "      <td>0.000104</td>\n",
       "    </tr>\n",
       "    <tr>\n",
       "      <th>Last Updated</th>\n",
       "      <td>0</td>\n",
       "      <td>0.000000</td>\n",
       "    </tr>\n",
       "  </tbody>\n",
       "</table>\n",
       "</div>"
      ],
      "text/plain": [
       "              Total   Percent\n",
       "Rating         1463  0.151465\n",
       "Current Ver       8  0.000828\n",
       "Size              3  0.000311\n",
       "Android Ver       2  0.000207\n",
       "Type              1  0.000104\n",
       "Last Updated      0  0.000000"
      ]
     },
     "execution_count": 26,
     "metadata": {},
     "output_type": "execute_result"
    }
   ],
   "source": [
    "# Cantidad de valores nulos ordenados descendentemente\n",
    "total = google_df.isnull().sum().sort_values(ascending=False)\n",
    "# Porcetaje de lo que representa para cada columna\n",
    "percent = (google_df.isnull().sum()/google_df.isnull().count()).sort_values(ascending=False)\n",
    "# Mostramos los 2 resultados en conjunto.\n",
    "missing_data = pd.concat([total, percent], axis=1, keys=['Total', 'Percent'])\n",
    "missing_data.head(6)"
   ]
  },
  {
   "cell_type": "code",
   "execution_count": 27,
   "metadata": {
    "colab": {},
    "colab_type": "code",
    "id": "3jNAZYrJJiBQ"
   },
   "outputs": [],
   "source": [
    "# Limpiamos registros '.dropna'\n",
    "google_df.dropna(how ='any', inplace = True)"
   ]
  },
  {
   "cell_type": "code",
   "execution_count": 28,
   "metadata": {
    "colab": {},
    "colab_type": "code",
    "id": "cFAVSErSiNEQ",
    "scrolled": true
   },
   "outputs": [
    {
     "name": "stdout",
     "output_type": "stream",
     "text": [
      "Nos quedamos con un dataframe de 8187 filas x 13 columnas\n"
     ]
    }
   ],
   "source": [
    "# Verificamos como quedo el dataset\n",
    "print(f'Nos quedamos con un dataframe de {google_df.shape[0]} filas x {google_df.shape[1]} columnas')"
   ]
  },
  {
   "cell_type": "markdown",
   "metadata": {
    "colab_type": "text",
    "id": "fPV9_jEOhr5Q"
   },
   "source": [
    "### Ahora que terminamos con la limpieza general del dataset, pasemos a analizar:\n",
    "    \n",
    "    - Rating\n",
    "    \n",
    "    - Categorias\n",
    "    \n",
    "    - Categorias vs Rating\n",
    "    \n",
    "    - Reviews\n",
    "    \n",
    "    - Precio"
   ]
  },
  {
   "cell_type": "markdown",
   "metadata": {
    "colab_type": "text",
    "id": "w8diOjARhr5Q"
   },
   "source": [
    "# Rating"
   ]
  },
  {
   "cell_type": "markdown",
   "metadata": {
    "colab_type": "text",
    "id": "9BIfpS3Phr5R"
   },
   "source": [
    "A continuacion veamos la distribucion estimada del 'Rating' y su histograma"
   ]
  },
  {
   "cell_type": "code",
   "execution_count": 29,
   "metadata": {
    "colab": {},
    "colab_type": "code",
    "id": "LejgbNGbhr5S",
    "scrolled": false
   },
   "outputs": [
    {
     "data": {
      "image/png": "[encoded data removed]",
      "text/plain": [
       "<Figure size 720x216 with 1 Axes>"
      ]
     },
     "metadata": {
      "needs_background": "light"
     },
     "output_type": "display_data"
    },
    {
     "data": {
      "image/png": "[encoded data removed]",
      "text/plain": [
       "<Figure size 720x216 with 1 Axes>"
      ]
     },
     "metadata": {
      "needs_background": "light"
     },
     "output_type": "display_data"
    }
   ],
   "source": [
    "plt.figure(figsize=(10,3))\n",
    "sns.kdeplot(google_df['Rating'], color= \"Blue\", shade = True)\n",
    "plt.xlabel(\"Rating\",size = 20)\n",
    "plt.ylabel(\"Frecuency\",size = 20)\n",
    "plt.title('Distribution of Rating',size = 20)\n",
    "#plt.imsave('KDE',format='png') # Guardar la imagen\n",
    "plt.show()\n",
    "\n",
    "plt.figure(figsize=(10,3))\n",
    "sns.countplot(google_df.Rating, color=\"Blue\")\n",
    "plt.xlabel(\"Rating\",size = 20)\n",
    "plt.ylabel(\"Qty\",size = 20)\n",
    "plt.title('Histogram of Rating',size = 20)\n",
    "plt.xticks([]) # por si deseamos eliminar los intervalos en el eje-x\n",
    "#plt.imsave('Histogram',format='png') # Guardar la imagen\n",
    "plt.show()"
   ]
  },
  {
   "cell_type": "markdown",
   "metadata": {
    "colab_type": "text",
    "id": "ezdfw-PUhr5V"
   },
   "source": [
    "# Categorias"
   ]
  },
  {
   "cell_type": "markdown",
   "metadata": {
    "colab_type": "text",
    "id": "f6ioB7OVhr5W"
   },
   "source": [
    "A modo de ejemplo, podriamos querer saber como es el comportamiento del Rating por Categoria:\n",
    "    \n",
    "* Vamos a visualizar el top 10 de categorias con mayor cantidad de apps.\n",
    "\n",
    "* Boxplot de Categoria vs Rating"
   ]
  },
  {
   "cell_type": "code",
   "execution_count": 30,
   "metadata": {
    "colab": {},
    "colab_type": "code",
    "id": "TgohRtWghr5X",
    "scrolled": false
   },
   "outputs": [
    {
     "name": "stdout",
     "output_type": "stream",
     "text": [
      "En total hay 33 categorias\r\n",
      "\n",
      "\n",
      " ['ART_AND_DESIGN' 'AUTO_AND_VEHICLES' 'BEAUTY' 'BOOKS_AND_REFERENCE'\n",
      " 'BUSINESS' 'COMICS' 'COMMUNICATION' 'DATING' 'EDUCATION' 'ENTERTAINMENT'\n",
      " 'EVENTS' 'FINANCE' 'FOOD_AND_DRINK' 'HEALTH_AND_FITNESS' 'HOUSE_AND_HOME'\n",
      " 'LIBRARIES_AND_DEMO' 'LIFESTYLE' 'GAME' 'FAMILY' 'MEDICAL' 'SOCIAL'\n",
      " 'SHOPPING' 'PHOTOGRAPHY' 'SPORTS' 'TRAVEL_AND_LOCAL' 'TOOLS'\n",
      " 'PERSONALIZATION' 'PRODUCTIVITY' 'PARENTING' 'WEATHER' 'VIDEO_PLAYERS'\n",
      " 'NEWS_AND_MAGAZINES' 'MAPS_AND_NAVIGATION']\n"
     ]
    }
   ],
   "source": [
    "# Gardamos en una variable la cantidad de categorias\n",
    "q_categorias = len(google_df['Category'].unique())\n",
    "print(f'En total hay {q_categorias} categorias\\r\\n')\n",
    "# Mostramos en la cell los tipos de categorias\n",
    "print(\"\\n\", google_df['Category'].unique())"
   ]
  },
  {
   "cell_type": "code",
   "execution_count": 31,
   "metadata": {
    "colab": {},
    "colab_type": "code",
    "id": "NvvQJAjkhr5a"
   },
   "outputs": [
    {
     "data": {
      "image/png": "[encoded data removed]",
      "text/plain": [
       "<Figure size 1080x216 with 1 Axes>"
      ]
     },
     "metadata": {
      "needs_background": "light"
     },
     "output_type": "display_data"
    }
   ],
   "source": [
    "# top\n",
    "top_n = 10\n",
    "# Guardamos los indices de los top_n categorias\n",
    "idx_top = google_df['Category'].value_counts(ascending=False).index[0:top_n]\n",
    "\n",
    "plt.figure(figsize=(15,3))\n",
    "# Indicamos la columna 'Category', de los datos 'google_df', en el orden 'idx_top'\n",
    "g = sns.countplot(x=\"Category\", data=google_df,\n",
    "                  order=idx_top,\n",
    "                  palette = \"muted\")\n",
    "g.set_xticklabels(g.get_xticklabels(), rotation=90, ha=\"right\")\n",
    "plt.title('Cantidad de App por Categorias', size = 20)\n",
    "plt.xlabel(\"Categoria\", size = 20)\n",
    "plt.ylabel(\"Cantidades\", size = 20)\n",
    "plt.show()"
   ]
  },
  {
   "cell_type": "markdown",
   "metadata": {
    "colab_type": "text",
    "id": "DY6pkSoIhr5c"
   },
   "source": [
    "# Categoria vs Rating"
   ]
  },
  {
   "cell_type": "code",
   "execution_count": 32,
   "metadata": {
    "colab": {},
    "colab_type": "code",
    "id": "rYN67Js3hr5d",
    "scrolled": false
   },
   "outputs": [
    {
     "data": {
      "image/png": "[encoded data removed]",
      "text/plain": [
       "<Figure size 1080x360 with 1 Axes>"
      ]
     },
     "metadata": {
      "needs_background": "light"
     },
     "output_type": "display_data"
    }
   ],
   "source": [
    "# Todas las categorias\n",
    "g = sns.catplot(x=\"Category\",y=\"Rating\",\n",
    "                data=google_df, \n",
    "                kind=\"box\",\n",
    "                order=idx_top,\n",
    "                palette = \"muted\",\n",
    "                height = 5 ,aspect=3)\n",
    "\n",
    "g.despine(left=True) # Para quitar linea del Y del plot\n",
    "g.set_xticklabels(rotation=90)\n",
    "plt.xlabel(\"Categoria\",size = 20)\n",
    "plt.ylabel(\"Rating\",size = 20)\n",
    "plt.title('Boxplot de Rating VS Categorias',size = 20)\n",
    "plt.show()"
   ]
  },
  {
   "cell_type": "markdown",
   "metadata": {
    "colab_type": "text",
    "id": "xHHM8In3hr5g"
   },
   "source": [
    "## Mediana, Q1-Q3, whiskers y  outliers \n",
    "En muchas ocaciones, luego de ver los plots vamos a querer guardar en variables valores como la media, los valores atipicos y los \"whiskers\" para cada categoria.\n",
    "\n",
    "A modo de ejemplo, veamos como obtenerlos para una unica categoria."
   ]
  },
  {
   "cell_type": "code",
   "execution_count": 33,
   "metadata": {
    "colab": {},
    "colab_type": "code",
    "id": "rd091jDbhr5g"
   },
   "outputs": [
    {
     "data": {
      "image/png": "[encoded data removed]",
      "text/plain": [
       "<Figure size 432x288 with 1 Axes>"
      ]
     },
     "metadata": {
      "needs_background": "light"
     },
     "output_type": "display_data"
    }
   ],
   "source": [
    "cat_select = 'LIFESTYLE'\n",
    "df_pivot = google_df[google_df['Category']==cat_select]\n",
    "plt.figure()\n",
    "bxplot = plt.boxplot(df_pivot['Rating'])\n",
    "#bxplot = plt.boxplot(df_pivot['Rating'],whis=[15, 82])\n",
    "plt.show()"
   ]
  },
  {
   "cell_type": "code",
   "execution_count": 34,
   "metadata": {
    "colab": {},
    "colab_type": "code",
    "id": "BoCdh6fohr5j"
   },
   "outputs": [],
   "source": [
    "# Mediana\n",
    "medians = bxplot[\"medians\"][0].get_ydata()\n",
    "\n",
    "# Marcas de Boxplot\n",
    "low_limits = bxplot[\"whiskers\"][0].get_ydata()\n",
    "up_limits = bxplot[\"whiskers\"][1].get_ydata()\n",
    "\n",
    "# Valores Q1 - Q3\n",
    "Q1 =  low_limits[0]\n",
    "Q3 =  up_limits[0]\n",
    "\n",
    "# whiskers: Valores extremos de las lineas que salen del intervalo [Q1-Q3]\n",
    "low_whiskers =  low_limits[1]\n",
    "up_whiskers = up_limits[1]\n",
    "\n",
    "# Outliers = fliers: Valores mas alla de los whiskers \n",
    "outliers = bxplot[\"fliers\"][0].get_ydata()"
   ]
  },
  {
   "cell_type": "code",
   "execution_count": 35,
   "metadata": {
    "colab": {},
    "colab_type": "code",
    "id": "1G7xw2arhr5m"
   },
   "outputs": [
    {
     "name": "stdout",
     "output_type": "stream",
     "text": [
      "Valor Mediana:\r\n",
      " 4.2\r\n",
      "\n",
      "[Q1 - Q3] : [3.8 - 4.6]\r\n",
      "\n",
      "[Inferior  - Superior]: [2.6 - 5.0] \r\n",
      "\n",
      "Valores outliers:\r\n",
      "[1.7 1.9 2.3 1.8 1.6 2.  2.  1.5 2.1 2.3 2.1]\r\n",
      "\n"
     ]
    }
   ],
   "source": [
    "print(f'Valor Mediana:\\r\\n {medians[0]}\\r\\n')\n",
    "print(f'[Q1 - Q3] : [{Q1} - {Q3}]\\r\\n')\n",
    "print(f'[Inferior  - Superior]: [{low_whiskers} - {up_whiskers}] \\r\\n')\n",
    "print(f'Valores outliers:\\r\\n{outliers}\\r\\n')"
   ]
  },
  {
   "cell_type": "markdown",
   "metadata": {
    "colab_type": "text",
    "id": "jbDjdGmLhr5p"
   },
   "source": [
    "# Reviews"
   ]
  },
  {
   "cell_type": "code",
   "execution_count": 36,
   "metadata": {
    "colab": {},
    "colab_type": "code",
    "id": "zi7Rlhwehr5q",
    "scrolled": false
   },
   "outputs": [
    {
     "data": {
      "image/png": "[encoded data removed]",
      "text/plain": [
       "<Figure size 720x216 with 1 Axes>"
      ]
     },
     "metadata": {
      "needs_background": "light"
     },
     "output_type": "display_data"
    },
    {
     "data": {
      "image/png": "[encoded data removed]",
      "text/plain": [
       "<Figure size 720x216 with 1 Axes>"
      ]
     },
     "metadata": {
      "needs_background": "light"
     },
     "output_type": "display_data"
    }
   ],
   "source": [
    "# En este primer plot vamos a ver una estimacion de la distribucion de de los reviews de la cantidad de Reviews\n",
    "plt.figure(figsize=(10,3))\n",
    "g = sns.kdeplot(google_df.Reviews, color=\"Green\", shade = True)\n",
    "plt.xlabel(\"Reviews\",size = 20)\n",
    "plt.ylabel(\"Frecuency\",size = 20)\n",
    "plt.title('Distribution of Reveiw',size = 20)\n",
    "plt.show()\n",
    "\n",
    "# En este segundo plot vamos a ver el histograma de la cantidad de reviews.\n",
    "# El parametro bins define la cantidad de sub-intervalos en los que vamos a dividir el eje-x\n",
    "plt.figure(figsize=(10,3))\n",
    "plt.hist(google_df['Reviews'], bins=100,color='g' ,alpha=0.5)\n",
    "plt.xlabel(\"Reviews\",size = 20)\n",
    "plt.ylabel(\"Cantidades\",size = 20)\n",
    "plt.show()"
   ]
  },
  {
   "cell_type": "markdown",
   "metadata": {
    "colab_type": "text",
    "id": "dLvJQc6ahr5s"
   },
   "source": [
    "Este ultimo grafico nos da alguna informacion?\n",
    "\n",
    "Muchas veces los graficos parecen que no nos muestran nada.\n",
    "\n",
    "En los casos donde tenemos muchas informacion concentrada, una buena practica es hacer un cambio de escala."
   ]
  },
  {
   "cell_type": "code",
   "execution_count": 37,
   "metadata": {
    "colab": {},
    "colab_type": "code",
    "id": "-rnL7QxMhr5t",
    "scrolled": true
   },
   "outputs": [
    {
     "data": {
      "image/png": "[encoded data removed]",
      "text/plain": [
       "<Figure size 720x216 with 1 Axes>"
      ]
     },
     "metadata": {
      "needs_background": "light"
     },
     "output_type": "display_data"
    }
   ],
   "source": [
    "plt.figure(figsize=(10,3))\n",
    "plt.hist(np.log(1+google_df.Reviews),bins=100, color='g' ,alpha=0.5)\n",
    "plt.xlabel(\"Log(Reviews)\",size = 20)\n",
    "plt.ylabel(\"Cantidades\",size = 20)\n",
    "plt.show()"
   ]
  },
  {
   "cell_type": "markdown",
   "metadata": {
    "colab_type": "text",
    "id": "f0rr48u8hr5w"
   },
   "source": [
    "Ahora podemos ver mejor como se distribuyen las cantidades de reviews ...\n",
    "\n",
    "Alla en el fondo, donde antes no veiamos nada, ahora podemos ver que hay un par de apps con muchisimos reviews...\n",
    "veamos cuales son ..."
   ]
  },
  {
   "cell_type": "code",
   "execution_count": 38,
   "metadata": {
    "colab": {},
    "colab_type": "code",
    "id": "ouL_tKTlhr5w",
    "scrolled": false
   },
   "outputs": [
    {
     "data": {
      "text/html": [
       "<div>\n",
       "<style scoped>\n",
       "    .dataframe tbody tr th:only-of-type {\n",
       "        vertical-align: middle;\n",
       "    }\n",
       "\n",
       "    .dataframe tbody tr th {\n",
       "        vertical-align: top;\n",
       "    }\n",
       "\n",
       "    .dataframe thead th {\n",
       "        text-align: right;\n",
       "    }\n",
       "</style>\n",
       "<table border=\"1\" class=\"dataframe\">\n",
       "  <thead>\n",
       "    <tr style=\"text-align: right;\">\n",
       "      <th></th>\n",
       "      <th>App</th>\n",
       "      <th>Category</th>\n",
       "      <th>Rating</th>\n",
       "      <th>Reviews</th>\n",
       "      <th>Size</th>\n",
       "      <th>Installs</th>\n",
       "      <th>Type</th>\n",
       "      <th>Price</th>\n",
       "      <th>Content Rating</th>\n",
       "      <th>Genres</th>\n",
       "      <th>Last Updated</th>\n",
       "      <th>Current Ver</th>\n",
       "      <th>Android Ver</th>\n",
       "    </tr>\n",
       "  </thead>\n",
       "  <tbody>\n",
       "    <tr>\n",
       "      <th>335</th>\n",
       "      <td>Messenger – Text and Video Chat for Free</td>\n",
       "      <td>COMMUNICATION</td>\n",
       "      <td>4.0</td>\n",
       "      <td>56642847</td>\n",
       "      <td>59.185124</td>\n",
       "      <td>1.000000e+09</td>\n",
       "      <td>Free</td>\n",
       "      <td>0.0</td>\n",
       "      <td>Everyone</td>\n",
       "      <td>Communication</td>\n",
       "      <td>August 1, 2018</td>\n",
       "      <td>Varies with device</td>\n",
       "      <td>Varies with device</td>\n",
       "    </tr>\n",
       "    <tr>\n",
       "      <th>336</th>\n",
       "      <td>WhatsApp Messenger</td>\n",
       "      <td>COMMUNICATION</td>\n",
       "      <td>4.4</td>\n",
       "      <td>69119316</td>\n",
       "      <td>59.185124</td>\n",
       "      <td>1.000000e+09</td>\n",
       "      <td>Free</td>\n",
       "      <td>0.0</td>\n",
       "      <td>Everyone</td>\n",
       "      <td>Communication</td>\n",
       "      <td>August 3, 2018</td>\n",
       "      <td>Varies with device</td>\n",
       "      <td>Varies with device</td>\n",
       "    </tr>\n",
       "    <tr>\n",
       "      <th>338</th>\n",
       "      <td>Google Chrome: Fast &amp; Secure</td>\n",
       "      <td>COMMUNICATION</td>\n",
       "      <td>4.3</td>\n",
       "      <td>9642995</td>\n",
       "      <td>59.185124</td>\n",
       "      <td>1.000000e+09</td>\n",
       "      <td>Free</td>\n",
       "      <td>0.0</td>\n",
       "      <td>Everyone</td>\n",
       "      <td>Communication</td>\n",
       "      <td>August 1, 2018</td>\n",
       "      <td>Varies with device</td>\n",
       "      <td>Varies with device</td>\n",
       "    </tr>\n",
       "    <tr>\n",
       "      <th>342</th>\n",
       "      <td>Viber Messenger</td>\n",
       "      <td>COMMUNICATION</td>\n",
       "      <td>4.3</td>\n",
       "      <td>11334799</td>\n",
       "      <td>59.185124</td>\n",
       "      <td>5.000000e+08</td>\n",
       "      <td>Free</td>\n",
       "      <td>0.0</td>\n",
       "      <td>Everyone</td>\n",
       "      <td>Communication</td>\n",
       "      <td>July 18, 2018</td>\n",
       "      <td>Varies with device</td>\n",
       "      <td>Varies with device</td>\n",
       "    </tr>\n",
       "    <tr>\n",
       "      <th>351</th>\n",
       "      <td>Opera Mini - fast web browser</td>\n",
       "      <td>COMMUNICATION</td>\n",
       "      <td>4.5</td>\n",
       "      <td>5149854</td>\n",
       "      <td>59.185124</td>\n",
       "      <td>1.000000e+08</td>\n",
       "      <td>Free</td>\n",
       "      <td>0.0</td>\n",
       "      <td>Everyone</td>\n",
       "      <td>Communication</td>\n",
       "      <td>July 19, 2018</td>\n",
       "      <td>Varies with device</td>\n",
       "      <td>Varies with device</td>\n",
       "    </tr>\n",
       "  </tbody>\n",
       "</table>\n",
       "</div>"
      ],
      "text/plain": [
       "                                          App       Category  Rating  \\\n",
       "335  Messenger – Text and Video Chat for Free  COMMUNICATION     4.0   \n",
       "336                        WhatsApp Messenger  COMMUNICATION     4.4   \n",
       "338              Google Chrome: Fast & Secure  COMMUNICATION     4.3   \n",
       "342                           Viber Messenger  COMMUNICATION     4.3   \n",
       "351             Opera Mini - fast web browser  COMMUNICATION     4.5   \n",
       "\n",
       "      Reviews       Size      Installs  Type  Price Content Rating  \\\n",
       "335  56642847  59.185124  1.000000e+09  Free    0.0       Everyone   \n",
       "336  69119316  59.185124  1.000000e+09  Free    0.0       Everyone   \n",
       "338   9642995  59.185124  1.000000e+09  Free    0.0       Everyone   \n",
       "342  11334799  59.185124  5.000000e+08  Free    0.0       Everyone   \n",
       "351   5149854  59.185124  1.000000e+08  Free    0.0       Everyone   \n",
       "\n",
       "            Genres    Last Updated         Current Ver         Android Ver  \n",
       "335  Communication  August 1, 2018  Varies with device  Varies with device  \n",
       "336  Communication  August 3, 2018  Varies with device  Varies with device  \n",
       "338  Communication  August 1, 2018  Varies with device  Varies with device  \n",
       "342  Communication   July 18, 2018  Varies with device  Varies with device  \n",
       "351  Communication   July 19, 2018  Varies with device  Varies with device  "
      ]
     },
     "execution_count": 38,
     "metadata": {},
     "output_type": "execute_result"
    }
   ],
   "source": [
    "google_df[google_df.Reviews > 5000000].head()"
   ]
  },
  {
   "cell_type": "markdown",
   "metadata": {
    "colab_type": "text",
    "id": "3KSapDTrhr50"
   },
   "source": [
    "**Habra alguna relacion entre los \"Reviews\" y alguna otra variable?**"
   ]
  },
  {
   "cell_type": "code",
   "execution_count": 39,
   "metadata": {
    "colab": {},
    "colab_type": "code",
    "id": "Twd8wFF-hr50"
   },
   "outputs": [
    {
     "data": {
      "image/png": "[encoded data removed]",
      "text/plain": [
       "<Figure size 648x504 with 2 Axes>"
      ]
     },
     "metadata": {
      "needs_background": "light"
     },
     "output_type": "display_data"
    }
   ],
   "source": [
    "corrmat = google_df.corr()\n",
    "\n",
    "f, ax = plt.subplots(figsize=(9, 7))\n",
    "ax = sns.heatmap(corrmat,\n",
    "               annot=True,\n",
    "               cmap=sns.diverging_palette(240, 10, as_cmap=True))"
   ]
  },
  {
   "cell_type": "markdown",
   "metadata": {
    "colab_type": "text",
    "id": "98WMlAQkhr54"
   },
   "source": [
    "**Tiene sentido?**"
   ]
  },
  {
   "cell_type": "markdown",
   "metadata": {
    "colab_type": "text",
    "id": "dZAWUp5Ihr54"
   },
   "source": [
    "# Precio"
   ]
  },
  {
   "cell_type": "markdown",
   "metadata": {
    "colab_type": "text",
    "id": "A-H_suvWhr55"
   },
   "source": [
    "Tenemos a nuestra disposicion tambien los precios de las Apps, asi que vamos a usarlos!\n",
    "\n",
    "* Estadistica descriptiva que nos da [.describe()](https://pandas.pydata.org/pandas-docs/stable/reference/api/pandas.DataFrame.describe.html) y si algo nos llama la atencion, explorarlo y si hace falta corregirlo.\n",
    "\n",
    "\n",
    "* Vamos a armar a criterio nuestro categorias de precio de las apps.\n",
    "\n",
    "\n",
    "* Crucemos informacion entre las categorias de precio Precio y Rating, y saquemos conclusiones."
   ]
  },
  {
   "cell_type": "code",
   "execution_count": 40,
   "metadata": {
    "colab": {},
    "colab_type": "code",
    "id": "E8slCUohiNFS",
    "scrolled": true
   },
   "outputs": [
    {
     "data": {
      "text/plain": [
       "count    8187.000000\n",
       "mean        1.038722\n",
       "std        16.867118\n",
       "min         0.000000\n",
       "25%         0.000000\n",
       "50%         0.000000\n",
       "75%         0.000000\n",
       "max       400.000000\n",
       "Name: Price, dtype: float64"
      ]
     },
     "execution_count": 40,
     "metadata": {},
     "output_type": "execute_result"
    }
   ],
   "source": [
    "google_df['Price'].describe()"
   ]
  },
  {
   "cell_type": "markdown",
   "metadata": {
    "colab_type": "text",
    "id": "mnZJiVFPhr6A"
   },
   "source": [
    "#### Hay una app que cuesta U$D 400 ! !"
   ]
  },
  {
   "cell_type": "code",
   "execution_count": 41,
   "metadata": {
    "colab": {},
    "colab_type": "code",
    "id": "FYNVYZcwhr6B",
    "scrolled": true
   },
   "outputs": [
    {
     "data": {
      "text/html": [
       "<div>\n",
       "<style scoped>\n",
       "    .dataframe tbody tr th:only-of-type {\n",
       "        vertical-align: middle;\n",
       "    }\n",
       "\n",
       "    .dataframe tbody tr th {\n",
       "        vertical-align: top;\n",
       "    }\n",
       "\n",
       "    .dataframe thead th {\n",
       "        text-align: right;\n",
       "    }\n",
       "</style>\n",
       "<table border=\"1\" class=\"dataframe\">\n",
       "  <thead>\n",
       "    <tr style=\"text-align: right;\">\n",
       "      <th></th>\n",
       "      <th>App</th>\n",
       "      <th>Category</th>\n",
       "      <th>Rating</th>\n",
       "      <th>Reviews</th>\n",
       "      <th>Size</th>\n",
       "      <th>Installs</th>\n",
       "      <th>Type</th>\n",
       "      <th>Price</th>\n",
       "      <th>Content Rating</th>\n",
       "      <th>Genres</th>\n",
       "      <th>Last Updated</th>\n",
       "      <th>Current Ver</th>\n",
       "      <th>Android Ver</th>\n",
       "    </tr>\n",
       "  </thead>\n",
       "  <tbody>\n",
       "    <tr>\n",
       "      <th>4367</th>\n",
       "      <td>I'm Rich - Trump Edition</td>\n",
       "      <td>LIFESTYLE</td>\n",
       "      <td>3.6</td>\n",
       "      <td>275</td>\n",
       "      <td>7.3</td>\n",
       "      <td>10000.0</td>\n",
       "      <td>Paid</td>\n",
       "      <td>400.0</td>\n",
       "      <td>Everyone</td>\n",
       "      <td>Lifestyle</td>\n",
       "      <td>May 3, 2018</td>\n",
       "      <td>1.0.1</td>\n",
       "      <td>4.1 and up</td>\n",
       "    </tr>\n",
       "  </tbody>\n",
       "</table>\n",
       "</div>"
      ],
      "text/plain": [
       "                           App   Category  Rating  Reviews  Size  Installs  \\\n",
       "4367  I'm Rich - Trump Edition  LIFESTYLE     3.6      275   7.3   10000.0   \n",
       "\n",
       "      Type  Price Content Rating     Genres Last Updated Current Ver  \\\n",
       "4367  Paid  400.0       Everyone  Lifestyle  May 3, 2018       1.0.1   \n",
       "\n",
       "     Android Ver  \n",
       "4367  4.1 and up  "
      ]
     },
     "execution_count": 41,
     "metadata": {},
     "output_type": "execute_result"
    }
   ],
   "source": [
    "google_df[google_df['Price'] == 400]"
   ]
  },
  {
   "cell_type": "markdown",
   "metadata": {
    "colab_type": "text",
    "id": "4k-0iiYBhr6F"
   },
   "source": [
    "### Ahora armemos a nuestro gusto brands segun los precios y veamos como se distribuyen"
   ]
  },
  {
   "cell_type": "code",
   "execution_count": 42,
   "metadata": {
    "colab": {},
    "colab_type": "code",
    "id": "195CywCPhr6F"
   },
   "outputs": [],
   "source": [
    "#Primero defininmos los limites de cada categoria y creemos la columna 'PriceBand'\n",
    "\n",
    "google_df.loc[ google_df['Price'] == 0, 'PriceBand'] = '0 Free'\n",
    "google_df.loc[(google_df['Price'] > 0) & (google_df['Price'] <= 0.99), 'PriceBand'] = '1 Muy Barato'\n",
    "google_df.loc[(google_df['Price'] > 0.99) & (google_df['Price'] <= 2.99), 'PriceBand']   = '2 Barato'\n",
    "google_df.loc[(google_df['Price'] > 2.99) & (google_df['Price'] <= 4.99), 'PriceBand']   = '3 Normal'\n",
    "google_df.loc[(google_df['Price'] > 4.99) & (google_df['Price'] <= 14.99), 'PriceBand']   = '4 Caro'\n",
    "google_df.loc[(google_df['Price'] > 14.99) & (google_df['Price'] <= 29.99), 'PriceBand']   = '5 Muy Caro'\n",
    "google_df.loc[(google_df['Price'] > 29.99), 'PriceBand']  = '6 #VamoACalmarnos'"
   ]
  },
  {
   "cell_type": "code",
   "execution_count": 43,
   "metadata": {
    "colab": {},
    "colab_type": "code",
    "id": "_j1QQI1Jhr6I",
    "scrolled": true
   },
   "outputs": [
    {
     "data": {
      "text/html": [
       "<div>\n",
       "<style scoped>\n",
       "    .dataframe tbody tr th:only-of-type {\n",
       "        vertical-align: middle;\n",
       "    }\n",
       "\n",
       "    .dataframe tbody tr th {\n",
       "        vertical-align: top;\n",
       "    }\n",
       "\n",
       "    .dataframe thead th {\n",
       "        text-align: right;\n",
       "    }\n",
       "</style>\n",
       "<table border=\"1\" class=\"dataframe\">\n",
       "  <thead>\n",
       "    <tr style=\"text-align: right;\">\n",
       "      <th></th>\n",
       "      <th>PriceBand</th>\n",
       "      <th>Rating</th>\n",
       "    </tr>\n",
       "  </thead>\n",
       "  <tbody>\n",
       "    <tr>\n",
       "      <th>0</th>\n",
       "      <td>0 Free</td>\n",
       "      <td>4.166394</td>\n",
       "    </tr>\n",
       "    <tr>\n",
       "      <th>1</th>\n",
       "      <td>1 Muy Barato</td>\n",
       "      <td>4.300971</td>\n",
       "    </tr>\n",
       "    <tr>\n",
       "      <th>2</th>\n",
       "      <td>2 Barato</td>\n",
       "      <td>4.293220</td>\n",
       "    </tr>\n",
       "    <tr>\n",
       "      <th>3</th>\n",
       "      <td>3 Normal</td>\n",
       "      <td>4.237838</td>\n",
       "    </tr>\n",
       "    <tr>\n",
       "      <th>4</th>\n",
       "      <td>4 Caro</td>\n",
       "      <td>4.235897</td>\n",
       "    </tr>\n",
       "    <tr>\n",
       "      <th>5</th>\n",
       "      <td>5 Muy Caro</td>\n",
       "      <td>4.238889</td>\n",
       "    </tr>\n",
       "    <tr>\n",
       "      <th>6</th>\n",
       "      <td>6 #VamoACalmarnos</td>\n",
       "      <td>3.910526</td>\n",
       "    </tr>\n",
       "  </tbody>\n",
       "</table>\n",
       "</div>"
      ],
      "text/plain": [
       "           PriceBand    Rating\n",
       "0             0 Free  4.166394\n",
       "1       1 Muy Barato  4.300971\n",
       "2           2 Barato  4.293220\n",
       "3           3 Normal  4.237838\n",
       "4             4 Caro  4.235897\n",
       "5         5 Muy Caro  4.238889\n",
       "6  6 #VamoACalmarnos  3.910526"
      ]
     },
     "execution_count": 43,
     "metadata": {},
     "output_type": "execute_result"
    }
   ],
   "source": [
    "#Veamos como es el mean value para las bandas que definimos\n",
    "google_df[['PriceBand', 'Rating']].groupby(['PriceBand'], as_index=False).mean()"
   ]
  },
  {
   "cell_type": "code",
   "execution_count": 44,
   "metadata": {
    "colab": {},
    "colab_type": "code",
    "id": "72kQ0qgrhr6N",
    "scrolled": false
   },
   "outputs": [
    {
     "data": {
      "image/png": "[encoded data removed]",
      "text/plain": [
       "<Figure size 1080x360 with 1 Axes>"
      ]
     },
     "metadata": {
      "needs_background": "light"
     },
     "output_type": "display_data"
    }
   ],
   "source": [
    "# Ahora en vez de utilizar 'box'(boxplot)\n",
    "# ingresaremos 'boxen' al argumento 'kind' de la funcion 'catplot'\n",
    "g = sns.catplot(x=\"PriceBand\", y=\"Rating\",\n",
    "                data=google_df, \n",
    "                kind=\"boxen\", # box , violin\n",
    "                height = 5,aspect=3 ,palette = \"muted\")\n",
    "g.despine(left=True)\n",
    "g.set_xticklabels(rotation=90)\n",
    "g = g.set_ylabels(\"Rating\")\n",
    "plt.title('Boxen plot Rating VS PriceBand',size = 20)\n",
    "plt.show()"
   ]
  },
  {
   "cell_type": "markdown",
   "metadata": {
    "colab_type": "text",
    "id": "KS60cAd-hr6Q"
   },
   "source": [
    "Para bases de datos muy grandes, muchas veces los limites de confiabilidad del boxplot por defecto consideran erroneamente \"outliers\" a muestras con muy baja probabilidad, que si deberian considerarse como parte del espacio de muestra.\n",
    "\n",
    "Ademas, el \"boxplot\" no deja visualizar como se distribuyen de muestras en los extremos.\n",
    "\n",
    "Si creemos que alguno de estos factores, entre otros, nos puede estar sucediendo y nos esconde informacion que creemos relevante mostrar, lo mejor es probar con algun otro tipo de ploteo ([boxen](https://vita.had.co.nz/papers/letter-value-plot.pdf) o  \"violin\")."
   ]
  },
  {
   "cell_type": "markdown",
   "metadata": {
    "colab_type": "text",
    "id": "yNlsY7oBhr6R"
   },
   "source": [
    "# Propuestas:\n",
    "    \n",
    "    - Apps Pagas vs Apps Free\n",
    "    \n",
    "    - Content Rating (Everyone, Teen, +18, etc)\n",
    "         Hint: google_df['Genres'] = google_df['Genres'].str.split(';').str[0]\n",
    "         \n",
    "    - Genres vs Rating\n",
    "    \n",
    "    - Genres (Estadistica descriptiva w.r.t , i.e, \"Rating\")\n",
    "    \n",
    "    - Mismo analisis, pero en vez de reemplazar Varies with device por la media de w.r.t. categoria, eliminando los registros y ver si el supuesto que hicimos impacta en los resultados. "
   ]
  },
  {
   "cell_type": "code",
   "execution_count": null,
   "metadata": {
    "colab": {},
    "colab_type": "code",
    "id": "3P_VbE3Ahr6R"
   },
   "outputs": [],
   "source": []
  },
  {
   "cell_type": "code",
   "execution_count": null,
   "metadata": {
    "colab": {},
    "colab_type": "code",
    "id": "OllsYsgLhr6V"
   },
   "outputs": [],
   "source": []
  }
 ],
 "metadata": {
  "colab": {
   "collapsed_sections": [],
   "name": "cluster_01_EDA_google_play_store.ipynb",
   "provenance": [
    {
     "file_id": "1h80uh-WLmCat_GdzGdh_jFXo_QD2blT1",
     "timestamp": 1532902915080
    }
   ]
  },
  "kernelspec": {
   "display_name": "Python 3",
   "language": "python",
   "name": "python3"
  },
  "language_info": {
   "codemirror_mode": {
    "name": "ipython",
    "version": 3
   },
   "file_extension": ".py",
   "mimetype": "text/x-python",
   "name": "python",
   "nbconvert_exporter": "python",
   "pygments_lexer": "ipython3",
   "version": "3.6.8"
  }
 },
 "nbformat": 4,
 "nbformat_minor": 1
}
